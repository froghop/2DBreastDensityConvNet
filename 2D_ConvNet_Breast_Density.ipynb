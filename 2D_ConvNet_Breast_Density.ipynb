{
  "nbformat": 4,
  "nbformat_minor": 0,
  "metadata": {
    "colab": {
      "name": "2D ConvNet Breast Density.ipynb",
      "provenance": [],
      "collapsed_sections": [
        "BgvDiLbAR-mu",
        "NT_paXIFSPe7",
        "q086xN5mktO1",
        "F_qXkRQulAfs",
        "PObpJQJoumv1",
        "UczqttN9SZpU",
        "_rrV6hUStmdY",
        "hL2PPxDTt5oZ",
        "GkRNDy9QSkU-",
        "2HfyQOihSs9Z",
        "-tEKcq1agAUr",
        "JGiswUiuf8Zq",
        "mNp1zi_6S0dM",
        "BssTb6C9Ol1s",
        "Q2jXNjl8Oqk6"
      ],
      "authorship_tag": "ABX9TyMlKFL+g/PHasjVCPdIAEh5",
      "include_colab_link": true
    },
    "kernelspec": {
      "name": "python3",
      "display_name": "Python 3"
    },
    "language_info": {
      "name": "python"
    }
  },
  "cells": [
    {
      "cell_type": "markdown",
      "metadata": {
        "id": "view-in-github",
        "colab_type": "text"
      },
      "source": [
        "<a href=\"https://colab.research.google.com/github/froghop/2DBreastDensityConvNet/blob/main/2D_ConvNet_Breast_Density.ipynb\" target=\"_parent\"><img src=\"https://colab.research.google.com/assets/colab-badge.svg\" alt=\"Open In Colab\"/></a>"
      ]
    },
    {
      "cell_type": "markdown",
      "metadata": {
        "id": "Vl3FeovcF9pb"
      },
      "source": [
        "**2D ConvNet for Breast Density**"
      ]
    },
    {
      "cell_type": "markdown",
      "source": [
        "The followinng notebook analyzes mammograms to determine a breast density classification of dense or not dense."
      ],
      "metadata": {
        "id": "CYvcyhnnEJs6"
      }
    },
    {
      "cell_type": "markdown",
      "metadata": {
        "id": "FuE9s8nmF7RR"
      },
      "source": [
        "Data can be found at: https://wiki.cancerimagingarchive.net/display/Public/CBIS-DDSM"
      ]
    },
    {
      "cell_type": "markdown",
      "source": [
        "\n",
        "\n",
        "---\n",
        "\n",
        "\n",
        "\n",
        "---\n",
        "\n"
      ],
      "metadata": {
        "id": "j_aJ5nl20Ncd"
      }
    },
    {
      "cell_type": "code",
      "metadata": {
        "colab": {
          "base_uri": "https://localhost:8080/"
        },
        "id": "DipLUNa8GElH",
        "outputId": "375ee1ec-f66a-49cf-b252-0c72df53532d"
      },
      "source": [
        "#Library Download\n",
        "!pip install numpy tensorflow keras sklearn pandas pydicom kornia opencv-python scikit-image nbdev --quiet"
      ],
      "execution_count": 1,
      "outputs": [
        {
          "output_type": "stream",
          "name": "stdout",
          "text": [
            "\u001b[K     |████████████████████████████████| 2.0 MB 29.5 MB/s \n",
            "\u001b[K     |████████████████████████████████| 401 kB 36.2 MB/s \n",
            "\u001b[K     |████████████████████████████████| 46 kB 2.1 MB/s \n",
            "\u001b[K     |████████████████████████████████| 56 kB 1.9 MB/s \n",
            "\u001b[K     |████████████████████████████████| 51 kB 208 kB/s \n",
            "\u001b[?25h"
          ]
        }
      ]
    },
    {
      "cell_type": "code",
      "metadata": {
        "id": "Lx3cCWXZRUOj"
      },
      "source": [
        "import pandas as pd\n",
        "import tensorflow as tf\n",
        "import os\n",
        "import skimage as sk\n",
        "import numpy as np\n",
        "import cv2\n",
        "import pydicom as pdm\n",
        "import matplotlib.pyplot as plt\n",
        "\n",
        "from pydicom import dcmread\n",
        "from skimage.transform import resize\n",
        "from skimage.io import imread\n",
        "from tensorflow import keras"
      ],
      "execution_count": 2,
      "outputs": []
    },
    {
      "cell_type": "code",
      "metadata": {
        "colab": {
          "base_uri": "https://localhost:8080/"
        },
        "id": "sXGWwO2Fge3c",
        "outputId": "02c5482c-fba7-4bef-ca02-e441ba5e53eb"
      },
      "source": [
        "from google.colab import drive\n",
        "drive.mount('/content/gdrive')"
      ],
      "execution_count": 3,
      "outputs": [
        {
          "output_type": "stream",
          "name": "stdout",
          "text": [
            "Mounted at /content/gdrive\n"
          ]
        }
      ]
    },
    {
      "cell_type": "markdown",
      "metadata": {
        "id": "hPrJq9omXUdL"
      },
      "source": [
        "# General Data Loading"
      ]
    },
    {
      "cell_type": "code",
      "source": [
        "df_test_path = 'gdrive/My Drive/UCSF/mass_case_description_test_set.csv' \n",
        "df_train_path = 'gdrive/My Drive/UCSF/mass_case_description_train_set.csv' "
      ],
      "metadata": {
        "id": "L1OEEphQKI6J"
      },
      "execution_count": 4,
      "outputs": []
    },
    {
      "cell_type": "code",
      "source": [
        "df_test = pd.read_csv(df_test_path)#, index_col=\"patient_id\")\n",
        "df_train = pd.read_csv(df_train_path)#, index_col=\"patient_id\")"
      ],
      "metadata": {
        "id": "kUautloGKdK7"
      },
      "execution_count": 5,
      "outputs": []
    },
    {
      "cell_type": "markdown",
      "source": [
        "# Data Exploration"
      ],
      "metadata": {
        "id": "jfwyjNF0JDVh"
      }
    },
    {
      "cell_type": "markdown",
      "source": [
        "The following code explores the format of DICOM files and the contents of the CSV file. It is not necessary for the overall functionality of the model."
      ],
      "metadata": {
        "id": "kcPtUDOPJRWl"
      }
    },
    {
      "cell_type": "code",
      "metadata": {
        "colab": {
          "base_uri": "https://localhost:8080/"
        },
        "id": "cHtCAC76c3f0",
        "outputId": "c05f1c62-2c64-4bd9-e925-a4a83df46f90"
      },
      "source": [
        "type(df_test)"
      ],
      "execution_count": null,
      "outputs": [
        {
          "output_type": "execute_result",
          "data": {
            "text/plain": [
              "pandas.core.frame.DataFrame"
            ]
          },
          "metadata": {},
          "execution_count": 9
        }
      ]
    },
    {
      "cell_type": "code",
      "metadata": {
        "id": "xGQU4jSLT52D",
        "colab": {
          "base_uri": "https://localhost:8080/",
          "height": 409
        },
        "outputId": "6562bec9-2dea-4614-9d0b-4d80b18e270a"
      },
      "source": [
        "df_train[0:5]"
      ],
      "execution_count": null,
      "outputs": [
        {
          "output_type": "execute_result",
          "data": {
            "text/html": [
              "\n",
              "  <div id=\"df-eb4eab1d-4e88-428c-bc61-3e9e358a753f\">\n",
              "    <div class=\"colab-df-container\">\n",
              "      <div>\n",
              "<style scoped>\n",
              "    .dataframe tbody tr th:only-of-type {\n",
              "        vertical-align: middle;\n",
              "    }\n",
              "\n",
              "    .dataframe tbody tr th {\n",
              "        vertical-align: top;\n",
              "    }\n",
              "\n",
              "    .dataframe thead th {\n",
              "        text-align: right;\n",
              "    }\n",
              "</style>\n",
              "<table border=\"1\" class=\"dataframe\">\n",
              "  <thead>\n",
              "    <tr style=\"text-align: right;\">\n",
              "      <th></th>\n",
              "      <th>patient_id</th>\n",
              "      <th>breast_density</th>\n",
              "      <th>left or right breast</th>\n",
              "      <th>image view</th>\n",
              "      <th>abnormality id</th>\n",
              "      <th>abnormality type</th>\n",
              "      <th>mass shape</th>\n",
              "      <th>mass margins</th>\n",
              "      <th>assessment</th>\n",
              "      <th>pathology</th>\n",
              "      <th>subtlety</th>\n",
              "      <th>image file path</th>\n",
              "      <th>cropped image file path</th>\n",
              "      <th>ROI mask file path</th>\n",
              "    </tr>\n",
              "  </thead>\n",
              "  <tbody>\n",
              "    <tr>\n",
              "      <th>0</th>\n",
              "      <td>P_00001</td>\n",
              "      <td>3</td>\n",
              "      <td>LEFT</td>\n",
              "      <td>CC</td>\n",
              "      <td>1</td>\n",
              "      <td>mass</td>\n",
              "      <td>IRREGULAR-ARCHITECTURAL_DISTORTION</td>\n",
              "      <td>SPICULATED</td>\n",
              "      <td>4</td>\n",
              "      <td>MALIGNANT</td>\n",
              "      <td>4</td>\n",
              "      <td>Mass-Training_P_00001_LEFT_CC/1.3.6.1.4.1.9590...</td>\n",
              "      <td>Mass-Training_P_00001_LEFT_CC_1/1.3.6.1.4.1.95...</td>\n",
              "      <td>Mass-Training_P_00001_LEFT_CC_1/1.3.6.1.4.1.95...</td>\n",
              "    </tr>\n",
              "    <tr>\n",
              "      <th>1</th>\n",
              "      <td>P_00001</td>\n",
              "      <td>3</td>\n",
              "      <td>LEFT</td>\n",
              "      <td>MLO</td>\n",
              "      <td>1</td>\n",
              "      <td>mass</td>\n",
              "      <td>IRREGULAR-ARCHITECTURAL_DISTORTION</td>\n",
              "      <td>SPICULATED</td>\n",
              "      <td>4</td>\n",
              "      <td>MALIGNANT</td>\n",
              "      <td>4</td>\n",
              "      <td>Mass-Training_P_00001_LEFT_MLO/1.3.6.1.4.1.959...</td>\n",
              "      <td>Mass-Training_P_00001_LEFT_MLO_1/1.3.6.1.4.1.9...</td>\n",
              "      <td>Mass-Training_P_00001_LEFT_MLO_1/1.3.6.1.4.1.9...</td>\n",
              "    </tr>\n",
              "    <tr>\n",
              "      <th>2</th>\n",
              "      <td>P_00004</td>\n",
              "      <td>3</td>\n",
              "      <td>LEFT</td>\n",
              "      <td>CC</td>\n",
              "      <td>1</td>\n",
              "      <td>mass</td>\n",
              "      <td>ARCHITECTURAL_DISTORTION</td>\n",
              "      <td>ILL_DEFINED</td>\n",
              "      <td>4</td>\n",
              "      <td>BENIGN</td>\n",
              "      <td>3</td>\n",
              "      <td>Mass-Training_P_00004_LEFT_CC/1.3.6.1.4.1.9590...</td>\n",
              "      <td>Mass-Training_P_00004_LEFT_CC_1/1.3.6.1.4.1.95...</td>\n",
              "      <td>Mass-Training_P_00004_LEFT_CC_1/1.3.6.1.4.1.95...</td>\n",
              "    </tr>\n",
              "    <tr>\n",
              "      <th>3</th>\n",
              "      <td>P_00004</td>\n",
              "      <td>3</td>\n",
              "      <td>LEFT</td>\n",
              "      <td>MLO</td>\n",
              "      <td>1</td>\n",
              "      <td>mass</td>\n",
              "      <td>ARCHITECTURAL_DISTORTION</td>\n",
              "      <td>ILL_DEFINED</td>\n",
              "      <td>4</td>\n",
              "      <td>BENIGN</td>\n",
              "      <td>3</td>\n",
              "      <td>Mass-Training_P_00004_LEFT_MLO/1.3.6.1.4.1.959...</td>\n",
              "      <td>Mass-Training_P_00004_LEFT_MLO_1/1.3.6.1.4.1.9...</td>\n",
              "      <td>Mass-Training_P_00004_LEFT_MLO_1/1.3.6.1.4.1.9...</td>\n",
              "    </tr>\n",
              "    <tr>\n",
              "      <th>4</th>\n",
              "      <td>P_00004</td>\n",
              "      <td>3</td>\n",
              "      <td>RIGHT</td>\n",
              "      <td>MLO</td>\n",
              "      <td>1</td>\n",
              "      <td>mass</td>\n",
              "      <td>OVAL</td>\n",
              "      <td>CIRCUMSCRIBED</td>\n",
              "      <td>4</td>\n",
              "      <td>BENIGN</td>\n",
              "      <td>5</td>\n",
              "      <td>Mass-Training_P_00004_RIGHT_MLO/1.3.6.1.4.1.95...</td>\n",
              "      <td>Mass-Training_P_00004_RIGHT_MLO_1/1.3.6.1.4.1....</td>\n",
              "      <td>Mass-Training_P_00004_RIGHT_MLO_1/1.3.6.1.4.1....</td>\n",
              "    </tr>\n",
              "  </tbody>\n",
              "</table>\n",
              "</div>\n",
              "      <button class=\"colab-df-convert\" onclick=\"convertToInteractive('df-eb4eab1d-4e88-428c-bc61-3e9e358a753f')\"\n",
              "              title=\"Convert this dataframe to an interactive table.\"\n",
              "              style=\"display:none;\">\n",
              "        \n",
              "  <svg xmlns=\"http://www.w3.org/2000/svg\" height=\"24px\"viewBox=\"0 0 24 24\"\n",
              "       width=\"24px\">\n",
              "    <path d=\"M0 0h24v24H0V0z\" fill=\"none\"/>\n",
              "    <path d=\"M18.56 5.44l.94 2.06.94-2.06 2.06-.94-2.06-.94-.94-2.06-.94 2.06-2.06.94zm-11 1L8.5 8.5l.94-2.06 2.06-.94-2.06-.94L8.5 2.5l-.94 2.06-2.06.94zm10 10l.94 2.06.94-2.06 2.06-.94-2.06-.94-.94-2.06-.94 2.06-2.06.94z\"/><path d=\"M17.41 7.96l-1.37-1.37c-.4-.4-.92-.59-1.43-.59-.52 0-1.04.2-1.43.59L10.3 9.45l-7.72 7.72c-.78.78-.78 2.05 0 2.83L4 21.41c.39.39.9.59 1.41.59.51 0 1.02-.2 1.41-.59l7.78-7.78 2.81-2.81c.8-.78.8-2.07 0-2.86zM5.41 20L4 18.59l7.72-7.72 1.47 1.35L5.41 20z\"/>\n",
              "  </svg>\n",
              "      </button>\n",
              "      \n",
              "  <style>\n",
              "    .colab-df-container {\n",
              "      display:flex;\n",
              "      flex-wrap:wrap;\n",
              "      gap: 12px;\n",
              "    }\n",
              "\n",
              "    .colab-df-convert {\n",
              "      background-color: #E8F0FE;\n",
              "      border: none;\n",
              "      border-radius: 50%;\n",
              "      cursor: pointer;\n",
              "      display: none;\n",
              "      fill: #1967D2;\n",
              "      height: 32px;\n",
              "      padding: 0 0 0 0;\n",
              "      width: 32px;\n",
              "    }\n",
              "\n",
              "    .colab-df-convert:hover {\n",
              "      background-color: #E2EBFA;\n",
              "      box-shadow: 0px 1px 2px rgba(60, 64, 67, 0.3), 0px 1px 3px 1px rgba(60, 64, 67, 0.15);\n",
              "      fill: #174EA6;\n",
              "    }\n",
              "\n",
              "    [theme=dark] .colab-df-convert {\n",
              "      background-color: #3B4455;\n",
              "      fill: #D2E3FC;\n",
              "    }\n",
              "\n",
              "    [theme=dark] .colab-df-convert:hover {\n",
              "      background-color: #434B5C;\n",
              "      box-shadow: 0px 1px 3px 1px rgba(0, 0, 0, 0.15);\n",
              "      filter: drop-shadow(0px 1px 2px rgba(0, 0, 0, 0.3));\n",
              "      fill: #FFFFFF;\n",
              "    }\n",
              "  </style>\n",
              "\n",
              "      <script>\n",
              "        const buttonEl =\n",
              "          document.querySelector('#df-eb4eab1d-4e88-428c-bc61-3e9e358a753f button.colab-df-convert');\n",
              "        buttonEl.style.display =\n",
              "          google.colab.kernel.accessAllowed ? 'block' : 'none';\n",
              "\n",
              "        async function convertToInteractive(key) {\n",
              "          const element = document.querySelector('#df-eb4eab1d-4e88-428c-bc61-3e9e358a753f');\n",
              "          const dataTable =\n",
              "            await google.colab.kernel.invokeFunction('convertToInteractive',\n",
              "                                                     [key], {});\n",
              "          if (!dataTable) return;\n",
              "\n",
              "          const docLinkHtml = 'Like what you see? Visit the ' +\n",
              "            '<a target=\"_blank\" href=https://colab.research.google.com/notebooks/data_table.ipynb>data table notebook</a>'\n",
              "            + ' to learn more about interactive tables.';\n",
              "          element.innerHTML = '';\n",
              "          dataTable['output_type'] = 'display_data';\n",
              "          await google.colab.output.renderOutput(dataTable, element);\n",
              "          const docLink = document.createElement('div');\n",
              "          docLink.innerHTML = docLinkHtml;\n",
              "          element.appendChild(docLink);\n",
              "        }\n",
              "      </script>\n",
              "    </div>\n",
              "  </div>\n",
              "  "
            ],
            "text/plain": [
              "  patient_id  ...                                 ROI mask file path\n",
              "0    P_00001  ...  Mass-Training_P_00001_LEFT_CC_1/1.3.6.1.4.1.95...\n",
              "1    P_00001  ...  Mass-Training_P_00001_LEFT_MLO_1/1.3.6.1.4.1.9...\n",
              "2    P_00004  ...  Mass-Training_P_00004_LEFT_CC_1/1.3.6.1.4.1.95...\n",
              "3    P_00004  ...  Mass-Training_P_00004_LEFT_MLO_1/1.3.6.1.4.1.9...\n",
              "4    P_00004  ...  Mass-Training_P_00004_RIGHT_MLO_1/1.3.6.1.4.1....\n",
              "\n",
              "[5 rows x 14 columns]"
            ]
          },
          "metadata": {},
          "execution_count": 13
        }
      ]
    },
    {
      "cell_type": "code",
      "source": [
        "df_test[0:5]"
      ],
      "metadata": {
        "colab": {
          "base_uri": "https://localhost:8080/",
          "height": 409
        },
        "id": "5e8xVQn99dHB",
        "outputId": "8c6a8641-0a89-4e38-bb17-ea3fd08dd8f5"
      },
      "execution_count": null,
      "outputs": [
        {
          "output_type": "execute_result",
          "data": {
            "text/html": [
              "\n",
              "  <div id=\"df-ac27388d-3688-444b-a510-6b2465eb2cea\">\n",
              "    <div class=\"colab-df-container\">\n",
              "      <div>\n",
              "<style scoped>\n",
              "    .dataframe tbody tr th:only-of-type {\n",
              "        vertical-align: middle;\n",
              "    }\n",
              "\n",
              "    .dataframe tbody tr th {\n",
              "        vertical-align: top;\n",
              "    }\n",
              "\n",
              "    .dataframe thead th {\n",
              "        text-align: right;\n",
              "    }\n",
              "</style>\n",
              "<table border=\"1\" class=\"dataframe\">\n",
              "  <thead>\n",
              "    <tr style=\"text-align: right;\">\n",
              "      <th></th>\n",
              "      <th>patient_id</th>\n",
              "      <th>breast_density</th>\n",
              "      <th>left or right breast</th>\n",
              "      <th>image view</th>\n",
              "      <th>abnormality id</th>\n",
              "      <th>abnormality type</th>\n",
              "      <th>mass shape</th>\n",
              "      <th>mass margins</th>\n",
              "      <th>assessment</th>\n",
              "      <th>pathology</th>\n",
              "      <th>subtlety</th>\n",
              "      <th>image file path</th>\n",
              "      <th>cropped image file path</th>\n",
              "      <th>ROI mask file path</th>\n",
              "    </tr>\n",
              "  </thead>\n",
              "  <tbody>\n",
              "    <tr>\n",
              "      <th>0</th>\n",
              "      <td>P_00016</td>\n",
              "      <td>4</td>\n",
              "      <td>LEFT</td>\n",
              "      <td>CC</td>\n",
              "      <td>1</td>\n",
              "      <td>mass</td>\n",
              "      <td>IRREGULAR</td>\n",
              "      <td>SPICULATED</td>\n",
              "      <td>5</td>\n",
              "      <td>MALIGNANT</td>\n",
              "      <td>5</td>\n",
              "      <td>Mass-Test_P_00016_LEFT_CC/1.3.6.1.4.1.9590.100...</td>\n",
              "      <td>Mass-Test_P_00016_LEFT_CC_1/1.3.6.1.4.1.9590.1...</td>\n",
              "      <td>Mass-Test_P_00016_LEFT_CC_1/1.3.6.1.4.1.9590.1...</td>\n",
              "    </tr>\n",
              "    <tr>\n",
              "      <th>1</th>\n",
              "      <td>P_00016</td>\n",
              "      <td>4</td>\n",
              "      <td>LEFT</td>\n",
              "      <td>MLO</td>\n",
              "      <td>1</td>\n",
              "      <td>mass</td>\n",
              "      <td>IRREGULAR</td>\n",
              "      <td>SPICULATED</td>\n",
              "      <td>5</td>\n",
              "      <td>MALIGNANT</td>\n",
              "      <td>5</td>\n",
              "      <td>Mass-Test_P_00016_LEFT_MLO/1.3.6.1.4.1.9590.10...</td>\n",
              "      <td>Mass-Test_P_00016_LEFT_MLO_1/1.3.6.1.4.1.9590....</td>\n",
              "      <td>Mass-Test_P_00016_LEFT_MLO_1/1.3.6.1.4.1.9590....</td>\n",
              "    </tr>\n",
              "    <tr>\n",
              "      <th>2</th>\n",
              "      <td>P_00017</td>\n",
              "      <td>2</td>\n",
              "      <td>LEFT</td>\n",
              "      <td>CC</td>\n",
              "      <td>1</td>\n",
              "      <td>mass</td>\n",
              "      <td>ROUND</td>\n",
              "      <td>CIRCUMSCRIBED</td>\n",
              "      <td>4</td>\n",
              "      <td>MALIGNANT</td>\n",
              "      <td>4</td>\n",
              "      <td>Mass-Test_P_00017_LEFT_CC/1.3.6.1.4.1.9590.100...</td>\n",
              "      <td>Mass-Test_P_00017_LEFT_CC_1/1.3.6.1.4.1.9590.1...</td>\n",
              "      <td>Mass-Test_P_00017_LEFT_CC_1/1.3.6.1.4.1.9590.1...</td>\n",
              "    </tr>\n",
              "    <tr>\n",
              "      <th>3</th>\n",
              "      <td>P_00017</td>\n",
              "      <td>2</td>\n",
              "      <td>LEFT</td>\n",
              "      <td>MLO</td>\n",
              "      <td>1</td>\n",
              "      <td>mass</td>\n",
              "      <td>ROUND</td>\n",
              "      <td>ILL_DEFINED</td>\n",
              "      <td>4</td>\n",
              "      <td>MALIGNANT</td>\n",
              "      <td>4</td>\n",
              "      <td>Mass-Test_P_00017_LEFT_MLO/1.3.6.1.4.1.9590.10...</td>\n",
              "      <td>Mass-Test_P_00017_LEFT_MLO_1/1.3.6.1.4.1.9590....</td>\n",
              "      <td>Mass-Test_P_00017_LEFT_MLO_1/1.3.6.1.4.1.9590....</td>\n",
              "    </tr>\n",
              "    <tr>\n",
              "      <th>4</th>\n",
              "      <td>P_00032</td>\n",
              "      <td>3</td>\n",
              "      <td>RIGHT</td>\n",
              "      <td>CC</td>\n",
              "      <td>1</td>\n",
              "      <td>mass</td>\n",
              "      <td>ROUND</td>\n",
              "      <td>OBSCURED</td>\n",
              "      <td>0</td>\n",
              "      <td>BENIGN</td>\n",
              "      <td>2</td>\n",
              "      <td>Mass-Test_P_00032_RIGHT_CC/1.3.6.1.4.1.9590.10...</td>\n",
              "      <td>Mass-Test_P_00032_RIGHT_CC_1/1.3.6.1.4.1.9590....</td>\n",
              "      <td>Mass-Test_P_00032_RIGHT_CC_1/1.3.6.1.4.1.9590....</td>\n",
              "    </tr>\n",
              "  </tbody>\n",
              "</table>\n",
              "</div>\n",
              "      <button class=\"colab-df-convert\" onclick=\"convertToInteractive('df-ac27388d-3688-444b-a510-6b2465eb2cea')\"\n",
              "              title=\"Convert this dataframe to an interactive table.\"\n",
              "              style=\"display:none;\">\n",
              "        \n",
              "  <svg xmlns=\"http://www.w3.org/2000/svg\" height=\"24px\"viewBox=\"0 0 24 24\"\n",
              "       width=\"24px\">\n",
              "    <path d=\"M0 0h24v24H0V0z\" fill=\"none\"/>\n",
              "    <path d=\"M18.56 5.44l.94 2.06.94-2.06 2.06-.94-2.06-.94-.94-2.06-.94 2.06-2.06.94zm-11 1L8.5 8.5l.94-2.06 2.06-.94-2.06-.94L8.5 2.5l-.94 2.06-2.06.94zm10 10l.94 2.06.94-2.06 2.06-.94-2.06-.94-.94-2.06-.94 2.06-2.06.94z\"/><path d=\"M17.41 7.96l-1.37-1.37c-.4-.4-.92-.59-1.43-.59-.52 0-1.04.2-1.43.59L10.3 9.45l-7.72 7.72c-.78.78-.78 2.05 0 2.83L4 21.41c.39.39.9.59 1.41.59.51 0 1.02-.2 1.41-.59l7.78-7.78 2.81-2.81c.8-.78.8-2.07 0-2.86zM5.41 20L4 18.59l7.72-7.72 1.47 1.35L5.41 20z\"/>\n",
              "  </svg>\n",
              "      </button>\n",
              "      \n",
              "  <style>\n",
              "    .colab-df-container {\n",
              "      display:flex;\n",
              "      flex-wrap:wrap;\n",
              "      gap: 12px;\n",
              "    }\n",
              "\n",
              "    .colab-df-convert {\n",
              "      background-color: #E8F0FE;\n",
              "      border: none;\n",
              "      border-radius: 50%;\n",
              "      cursor: pointer;\n",
              "      display: none;\n",
              "      fill: #1967D2;\n",
              "      height: 32px;\n",
              "      padding: 0 0 0 0;\n",
              "      width: 32px;\n",
              "    }\n",
              "\n",
              "    .colab-df-convert:hover {\n",
              "      background-color: #E2EBFA;\n",
              "      box-shadow: 0px 1px 2px rgba(60, 64, 67, 0.3), 0px 1px 3px 1px rgba(60, 64, 67, 0.15);\n",
              "      fill: #174EA6;\n",
              "    }\n",
              "\n",
              "    [theme=dark] .colab-df-convert {\n",
              "      background-color: #3B4455;\n",
              "      fill: #D2E3FC;\n",
              "    }\n",
              "\n",
              "    [theme=dark] .colab-df-convert:hover {\n",
              "      background-color: #434B5C;\n",
              "      box-shadow: 0px 1px 3px 1px rgba(0, 0, 0, 0.15);\n",
              "      filter: drop-shadow(0px 1px 2px rgba(0, 0, 0, 0.3));\n",
              "      fill: #FFFFFF;\n",
              "    }\n",
              "  </style>\n",
              "\n",
              "      <script>\n",
              "        const buttonEl =\n",
              "          document.querySelector('#df-ac27388d-3688-444b-a510-6b2465eb2cea button.colab-df-convert');\n",
              "        buttonEl.style.display =\n",
              "          google.colab.kernel.accessAllowed ? 'block' : 'none';\n",
              "\n",
              "        async function convertToInteractive(key) {\n",
              "          const element = document.querySelector('#df-ac27388d-3688-444b-a510-6b2465eb2cea');\n",
              "          const dataTable =\n",
              "            await google.colab.kernel.invokeFunction('convertToInteractive',\n",
              "                                                     [key], {});\n",
              "          if (!dataTable) return;\n",
              "\n",
              "          const docLinkHtml = 'Like what you see? Visit the ' +\n",
              "            '<a target=\"_blank\" href=https://colab.research.google.com/notebooks/data_table.ipynb>data table notebook</a>'\n",
              "            + ' to learn more about interactive tables.';\n",
              "          element.innerHTML = '';\n",
              "          dataTable['output_type'] = 'display_data';\n",
              "          await google.colab.output.renderOutput(dataTable, element);\n",
              "          const docLink = document.createElement('div');\n",
              "          docLink.innerHTML = docLinkHtml;\n",
              "          element.appendChild(docLink);\n",
              "        }\n",
              "      </script>\n",
              "    </div>\n",
              "  </div>\n",
              "  "
            ],
            "text/plain": [
              "  patient_id  ...                                 ROI mask file path\n",
              "0    P_00016  ...  Mass-Test_P_00016_LEFT_CC_1/1.3.6.1.4.1.9590.1...\n",
              "1    P_00016  ...  Mass-Test_P_00016_LEFT_MLO_1/1.3.6.1.4.1.9590....\n",
              "2    P_00017  ...  Mass-Test_P_00017_LEFT_CC_1/1.3.6.1.4.1.9590.1...\n",
              "3    P_00017  ...  Mass-Test_P_00017_LEFT_MLO_1/1.3.6.1.4.1.9590....\n",
              "4    P_00032  ...  Mass-Test_P_00032_RIGHT_CC_1/1.3.6.1.4.1.9590....\n",
              "\n",
              "[5 rows x 14 columns]"
            ]
          },
          "metadata": {},
          "execution_count": 12
        }
      ]
    },
    {
      "cell_type": "code",
      "source": [
        "ex1 = df_test.iloc[0]"
      ],
      "metadata": {
        "id": "wIWD5iMX_c4O"
      },
      "execution_count": 6,
      "outputs": []
    },
    {
      "cell_type": "code",
      "source": [
        "ex1['image file path']"
      ],
      "metadata": {
        "colab": {
          "base_uri": "https://localhost:8080/",
          "height": 53
        },
        "id": "1FuxHlPyBmAJ",
        "outputId": "3c2f87b3-bd42-41f2-9a16-187586872cdb"
      },
      "execution_count": null,
      "outputs": [
        {
          "output_type": "execute_result",
          "data": {
            "application/vnd.google.colaboratory.intrinsic+json": {
              "type": "string"
            },
            "text/plain": [
              "'Mass-Test_P_00016_LEFT_CC/1.3.6.1.4.1.9590.100.1.2.416403281812750683720028031170500130104/1.3.6.1.4.1.9590.100.1.2.245063149211255120613007755642780114172/000000.dcm'"
            ]
          },
          "metadata": {},
          "execution_count": 33
        }
      ]
    },
    {
      "cell_type": "code",
      "metadata": {
        "colab": {
          "base_uri": "https://localhost:8080/",
          "height": 297
        },
        "id": "q-70A9WePqYr",
        "outputId": "c11a51ad-bc11-430f-8d0d-00d53772bbc1"
      },
      "source": [
        "df_train.describe()"
      ],
      "execution_count": null,
      "outputs": [
        {
          "output_type": "execute_result",
          "data": {
            "text/html": [
              "<div>\n",
              "<style scoped>\n",
              "    .dataframe tbody tr th:only-of-type {\n",
              "        vertical-align: middle;\n",
              "    }\n",
              "\n",
              "    .dataframe tbody tr th {\n",
              "        vertical-align: top;\n",
              "    }\n",
              "\n",
              "    .dataframe thead th {\n",
              "        text-align: right;\n",
              "    }\n",
              "</style>\n",
              "<table border=\"1\" class=\"dataframe\">\n",
              "  <thead>\n",
              "    <tr style=\"text-align: right;\">\n",
              "      <th></th>\n",
              "      <th>breast_density</th>\n",
              "      <th>abnormality id</th>\n",
              "      <th>assessment</th>\n",
              "      <th>subtlety</th>\n",
              "    </tr>\n",
              "  </thead>\n",
              "  <tbody>\n",
              "    <tr>\n",
              "      <th>count</th>\n",
              "      <td>1318.000000</td>\n",
              "      <td>1318.000000</td>\n",
              "      <td>1318.000000</td>\n",
              "      <td>1318.000000</td>\n",
              "    </tr>\n",
              "    <tr>\n",
              "      <th>mean</th>\n",
              "      <td>2.203338</td>\n",
              "      <td>1.116085</td>\n",
              "      <td>3.504552</td>\n",
              "      <td>3.965857</td>\n",
              "    </tr>\n",
              "    <tr>\n",
              "      <th>std</th>\n",
              "      <td>0.873774</td>\n",
              "      <td>0.467013</td>\n",
              "      <td>1.414609</td>\n",
              "      <td>1.102032</td>\n",
              "    </tr>\n",
              "    <tr>\n",
              "      <th>min</th>\n",
              "      <td>1.000000</td>\n",
              "      <td>1.000000</td>\n",
              "      <td>0.000000</td>\n",
              "      <td>0.000000</td>\n",
              "    </tr>\n",
              "    <tr>\n",
              "      <th>25%</th>\n",
              "      <td>2.000000</td>\n",
              "      <td>1.000000</td>\n",
              "      <td>3.000000</td>\n",
              "      <td>3.000000</td>\n",
              "    </tr>\n",
              "    <tr>\n",
              "      <th>50%</th>\n",
              "      <td>2.000000</td>\n",
              "      <td>1.000000</td>\n",
              "      <td>4.000000</td>\n",
              "      <td>4.000000</td>\n",
              "    </tr>\n",
              "    <tr>\n",
              "      <th>75%</th>\n",
              "      <td>3.000000</td>\n",
              "      <td>1.000000</td>\n",
              "      <td>4.000000</td>\n",
              "      <td>5.000000</td>\n",
              "    </tr>\n",
              "    <tr>\n",
              "      <th>max</th>\n",
              "      <td>4.000000</td>\n",
              "      <td>6.000000</td>\n",
              "      <td>5.000000</td>\n",
              "      <td>5.000000</td>\n",
              "    </tr>\n",
              "  </tbody>\n",
              "</table>\n",
              "</div>"
            ],
            "text/plain": [
              "       breast_density  abnormality id   assessment     subtlety\n",
              "count     1318.000000     1318.000000  1318.000000  1318.000000\n",
              "mean         2.203338        1.116085     3.504552     3.965857\n",
              "std          0.873774        0.467013     1.414609     1.102032\n",
              "min          1.000000        1.000000     0.000000     0.000000\n",
              "25%          2.000000        1.000000     3.000000     3.000000\n",
              "50%          2.000000        1.000000     4.000000     4.000000\n",
              "75%          3.000000        1.000000     4.000000     5.000000\n",
              "max          4.000000        6.000000     5.000000     5.000000"
            ]
          },
          "metadata": {},
          "execution_count": 7
        }
      ]
    },
    {
      "cell_type": "markdown",
      "source": [
        "The following function is a remnant of an earlier version of the notebook. It neglects any image identifiers for the purposes of matching breast densities to images, (and, not to mention, adds a layer of inefficiency by solely collecting images) but was useful for understanding what the model data looked like. "
      ],
      "metadata": {
        "id": "p_Nd-S2bsr0Z"
      }
    },
    {
      "cell_type": "code",
      "metadata": {
        "id": "o-4oIqiJdhEG"
      },
      "source": [
        "#ignore\n",
        "\n",
        "root_path = 'gdrive/My Drive/UCSF/CBIS-DDSM/' \n",
        "dcm_png_items = []\n",
        "\n",
        "def dicom_load(path):\n",
        "  for dirName, subDir, filels in os.walk(path):\n",
        "    for fileName in filels:\n",
        "      filepath = dirName + os.sep + fileName\n",
        "      if \".dcm\" in fileName:\n",
        "        #want to append this to a greater directory\n",
        "        dcm_read_file = pdm.dcmread(filepath)\n",
        "        ##dcm_items.append(dcm_read_file)\n",
        "        dcm_png_items.append(dcm_read_file)\n",
        "        filepaths.append(filepath)\n",
        "      else: \n",
        "        ##png_items.append(filepath)\n",
        "        dcm_png_items.append(filepath)\n",
        "      filepaths.append(filepath)"
      ],
      "execution_count": null,
      "outputs": []
    },
    {
      "cell_type": "code",
      "metadata": {
        "id": "QtSpO_LRfo5P"
      },
      "source": [
        "dicom_load(root_path)"
      ],
      "execution_count": null,
      "outputs": []
    },
    {
      "cell_type": "code",
      "metadata": {
        "colab": {
          "base_uri": "https://localhost:8080/"
        },
        "id": "MG6uKpl9hsXy",
        "outputId": "62b1b953-5de1-4e97-ba98-5359753fc1c4"
      },
      "source": [
        "dcm_png_items[0]"
      ],
      "execution_count": null,
      "outputs": [
        {
          "output_type": "execute_result",
          "data": {
            "text/plain": [
              "Dataset.file_meta -------------------------------\n",
              "(0002, 0000) File Meta Information Group Length  UL: 194\n",
              "(0002, 0001) File Meta Information Version       OB: b'\\x00\\x01'\n",
              "(0002, 0002) Media Storage SOP Class UID         UI: Secondary Capture Image Storage\n",
              "(0002, 0003) Media Storage SOP Instance UID      UI: 1.3.6.1.4.1.9590.100.1.2.39500220012318751030553662833275533580\n",
              "(0002, 0010) Transfer Syntax UID                 UI: Implicit VR Little Endian\n",
              "(0002, 0012) Implementation Class UID            UI: 1.2.40.0.13.1.1.1\n",
              "(0002, 0013) Implementation Version Name         SH: 'dcm4che-1.4.35'\n",
              "-------------------------------------------------\n",
              "(0008, 0005) Specific Character Set              CS: 'ISO_IR 100'\n",
              "(0008, 0016) SOP Class UID                       UI: Secondary Capture Image Storage\n",
              "(0008, 0018) SOP Instance UID                    UI: 1.3.6.1.4.1.9590.100.1.2.39500220012318751030553662833275533580\n",
              "(0008, 0020) Study Date                          DA: ''\n",
              "(0008, 0023) Content Date                        DA: '20160503'\n",
              "(0008, 0030) Study Time                          TM: ''\n",
              "(0008, 0033) Content Time                        TM: '111729.094000'\n",
              "(0008, 0050) Accession Number                    SH: ''\n",
              "(0008, 0060) Modality                            CS: 'MG'\n",
              "(0008, 0064) Conversion Type                     CS: 'WSD'\n",
              "(0008, 0090) Referring Physician's Name          PN: ''\n",
              "(0010, 0010) Patient's Name                      PN: 'P_00195^P_00195'\n",
              "(0010, 0020) Patient ID                          LO: 'P_00195_LEFT_CC.dcm'\n",
              "(0010, 0030) Patient's Birth Date                DA: ''\n",
              "(0010, 0040) Patient's Sex                       CS: ''\n",
              "(0018, 0015) Body Part Examined                  CS: 'Left Breast'\n",
              "(0018, 1016) Secondary Capture Device Manufactur LO: 'MathWorks'\n",
              "(0018, 1018) Secondary Capture Device Manufactur LO: 'MATLAB'\n",
              "(0020, 000d) Study Instance UID                  UI: 1.3.6.1.4.1.9590.100.1.2.178135750213903258008337972962548515054\n",
              "(0020, 000e) Series Instance UID                 UI: 1.3.6.1.4.1.9590.100.1.2.343615285613423242513342939330313281342\n",
              "(0020, 0010) Study ID                            SH: 'DDSM'\n",
              "(0020, 0011) Series Number                       IS: '1'\n",
              "(0020, 0013) Instance Number                     IS: '1'\n",
              "(0020, 0020) Patient Orientation                 CS: 'CC'\n",
              "(0028, 0002) Samples per Pixel                   US: 1\n",
              "(0028, 0004) Photometric Interpretation          CS: 'MONOCHROME2'\n",
              "(0028, 0010) Rows                                US: 5491\n",
              "(0028, 0011) Columns                             US: 2926\n",
              "(0028, 0100) Bits Allocated                      US: 16\n",
              "(0028, 0101) Bits Stored                         US: 16\n",
              "(0028, 0102) High Bit                            US: 15\n",
              "(0028, 0103) Pixel Representation                US: 0\n",
              "(0028, 0106) Smallest Image Pixel Value          US: 0\n",
              "(0028, 0107) Largest Image Pixel Value           US: 65535\n",
              "(7fe0, 0010) Pixel Data                          OW: Array of 32133332 elements"
            ]
          },
          "metadata": {},
          "execution_count": 21
        }
      ]
    },
    {
      "cell_type": "markdown",
      "metadata": {
        "id": "mIjVvJ8FRvyB"
      },
      "source": [
        "# DICOM / PNG file Loading"
      ]
    },
    {
      "cell_type": "markdown",
      "metadata": {
        "id": "lWp0qBLiR28A"
      },
      "source": [
        "***Problem Statement:*** Write a function that can load DICOM or PNG file and then convert them to user specified image size (ex: 299 x 299 or 229x229) numpy files. The DICOM files may be compressed or uncompresed. This function needs to be user-friendly and should be able to stand on its own. The image re-sizing can be done by SKlearn or other library."
      ]
    },
    {
      "cell_type": "markdown",
      "metadata": {
        "id": "5jslcKsD8QGy"
      },
      "source": [
        "**Resources:** \n",
        "https://www.ncbi.nlm.nih.gov/pmc/articles/PMC3354356/"
      ]
    },
    {
      "cell_type": "code",
      "metadata": {
        "id": "h06I9gSWc3Y3"
      },
      "source": [
        "root_path = 'gdrive/My Drive/UCSF/CBIS-DDSM/' "
      ],
      "execution_count": 6,
      "outputs": []
    },
    {
      "cell_type": "code",
      "metadata": {
        "id": "m9MSfYlZeunC"
      },
      "source": [
        "\"\"\"\n",
        "Dictionary for use in `load_and_resize` and `match_img_to_density`.\n",
        "key = counter\n",
        "val = [fileName, image]\n",
        "\"\"\"\n",
        "dic = {}"
      ],
      "execution_count": 7,
      "outputs": []
    },
    {
      "cell_type": "markdown",
      "metadata": {
        "id": "PQS332kRd5KY"
      },
      "source": [
        "**dirName** - represented in \n",
        "the format \"Calc-Test_P_ ###...\"\n",
        "\n",
        "**subdir** - represented as 'date-DDSM...\"\n",
        "\n",
        "**subsubdir** - represented as \"1.0000...-\" + description of image location\n",
        "\n",
        "**filels** - represented as \"1-#.dcm\" where # increases to represent the ith file in the folder"
      ]
    },
    {
      "cell_type": "code",
      "source": [
        "def load_and_resize(path, x, y):\n",
        "  \"\"\"\n",
        "  Reads the images, resizes them, and saves them along with their pertinent \n",
        "  identifiers into dic. \n",
        "  @param path: the root path to begin file extraction from\n",
        "  @param x: desired x-cord\n",
        "  @param y: desired y-cord\n",
        "\n",
        "  \"\"\"\n",
        "  counter = 1\n",
        "  for dirName, subDir, filels in os.walk(path):\n",
        "    for fileName in filels:\n",
        "      filepath = dirName + os.sep + fileName\n",
        "      #print(str(counter) + \" : \" + filepath[31:])\n",
        "      if \".png\" in fileName:\n",
        "        imgpng = cv2.imread(filepath)\n",
        "\n",
        "        imgpng_resized = resize(imgpng, (x,y))\n",
        "\n",
        "        dic[counter] = [filepath[31:], imgpng_resized]\n",
        "\n",
        "      else:\n",
        "        dcm_file = pdm.dcmread(filepath, force=True)\n",
        "        #if file compressed\n",
        "        if \".dcm\" not in fileName:\n",
        "          print(\"not .dcm\" + fileName)\n",
        "          dcm_file = dcm_file.decompress()\n",
        "\n",
        "        resized_dcm_ndarray = resize(dcm_file.pixel_array, (x,y))\n",
        "\n",
        "        dic[counter] = [filepath[31:], resized_dcm_ndarray]\n",
        "      counter +=1\n",
        "      \n",
        "  print(\"Loading and resizing successful.\")"
      ],
      "metadata": {
        "id": "enKKDrIig-Tf"
      },
      "execution_count": 9,
      "outputs": []
    },
    {
      "cell_type": "code",
      "source": [
        "load_and_resize(root_path, 229, 229)"
      ],
      "metadata": {
        "colab": {
          "base_uri": "https://localhost:8080/"
        },
        "id": "e31YmTqPOfBd",
        "outputId": "2c9d0bfe-aa2e-42c0-bbd0-2cccc23ab86b"
      },
      "execution_count": 10,
      "outputs": [
        {
          "output_type": "stream",
          "name": "stdout",
          "text": [
            "Loading and resizing successful.\n"
          ]
        }
      ]
    },
    {
      "cell_type": "code",
      "source": [
        "train_data, train_labels = [], []\n",
        "test_data, test_labels = [], []"
      ],
      "metadata": {
        "id": "-iSXBgT91eHI"
      },
      "execution_count": 11,
      "outputs": []
    },
    {
      "cell_type": "code",
      "source": [
        "def match_img_to_density(dataframe_train, dataframe_test):\n",
        "  \"\"\"\n",
        "  Matches the images to their according breast density classifcation per the CSV file.\n",
        "  Enters this information into respective lists for train and test, data and labels.\n",
        "  @param dataframe_train: dataframe (from csv) with training data\n",
        "  @param dataframe_test: dataframe (from csv) with test data\n",
        "  \"\"\"\n",
        "  for p_id in dic:\n",
        "    ls = dic[p_id]\n",
        "    filepath = ls[0]\n",
        "    fn = filepath.split('/')[0]\n",
        "    img = ls[1]\n",
        "    if 'Test' in fn:\n",
        "      data = dataframe_test.loc[dataframe_test['cropped image file path'].str.contains(fn)]\n",
        "      \n",
        "      if data['breast_density'].iloc[0] <=2:\n",
        "        density = 0\n",
        "      else:\n",
        "        density = 1\n",
        "      #density = (0 if data['breast_density'].iloc[0] <= 2 else 1)\n",
        "      test_data.append(img)\n",
        "      test_labels.append(density)\n",
        "    else:\n",
        "      data = dataframe_train.loc[dataframe_train['cropped image file path'].str.contains(fn)]\n",
        "      \n",
        "      if data['breast_density'].iloc[0] <=2:\n",
        "        density = 0\n",
        "      else:\n",
        "        density = 1\n",
        "      #density = (0 if data['breast_density'].iloc[0] <= 2 else 1)\n",
        "      train_data.append(img)\n",
        "      train_labels.append(density)\n",
        "\n",
        "  print(\"Matching successful.\")"
      ],
      "metadata": {
        "id": "qIiPEjX1NiYX"
      },
      "execution_count": 12,
      "outputs": []
    },
    {
      "cell_type": "code",
      "source": [
        "match_img_to_density(df_train, df_test)"
      ],
      "metadata": {
        "colab": {
          "base_uri": "https://localhost:8080/"
        },
        "id": "UjG-82O4GG5e",
        "outputId": "51395bf3-c700-490d-b368-bac8eb34bc4e"
      },
      "execution_count": 13,
      "outputs": [
        {
          "output_type": "stream",
          "name": "stdout",
          "text": [
            "Matching successful.\n"
          ]
        }
      ]
    },
    {
      "cell_type": "markdown",
      "source": [
        "The following blocks convert the data and labels into numpy arrays and then tensors, and finally into a dataset."
      ],
      "metadata": {
        "id": "LvmakmuYqS4H"
      }
    },
    {
      "cell_type": "code",
      "source": [
        "train_data = np.asarray(train_data)\n",
        "train_data = tf.convert_to_tensor(train_data) \n",
        "\n",
        "train_labels = np.asarray(train_labels)\n",
        "train2_labels = tf.convert_to_tensor(train_labels) #changed to 2\n",
        "\n",
        "train_dataset = tf.data.Dataset.from_tensor_slices((train_data, train_labels))"
      ],
      "metadata": {
        "id": "3JA9GlbQir61"
      },
      "execution_count": 14,
      "outputs": []
    },
    {
      "cell_type": "code",
      "source": [
        "test_data = np.asarray(test_data)\n",
        "test_data = tf.convert_to_tensor(test_data)\n",
        "\n",
        "test_labels = np.asarray(test_labels)\n",
        "test2_labels = tf.convert_to_tensor(test_labels)\n",
        "\n",
        "test_dataset = tf.data.Dataset.from_tensor_slices((test_data, test_labels))"
      ],
      "metadata": {
        "id": "orjK58xiLSj9"
      },
      "execution_count": 15,
      "outputs": []
    },
    {
      "cell_type": "markdown",
      "source": [
        "The following blocks are for the ResNet model specifically. They add a dimension to the data to represent a single color channel, and then, as done in the previous blocks, the data and labels are converted ultimately into tensors and then a dataset. "
      ],
      "metadata": {
        "id": "LsB22PWsqc45"
      }
    },
    {
      "cell_type": "code",
      "source": [
        "train2_data = []\n",
        "train2_labels = []\n",
        "\n",
        "for _ in train_data:\n",
        "  train2_data.append(tf.expand_dims(_, -1))\n",
        "\n",
        "for _ in train_labels:\n",
        "  train2_labels.append(tf.expand_dims(_, 0))\n",
        "\n",
        "train2_data = tf.convert_to_tensor(train2_data)\n",
        "train2_labels = tf.convert_to_tensor(train2_labels)\n",
        "\n",
        "train2_dataset = tf.data.Dataset.from_tensor_slices((train2_data, train2_labels))"
      ],
      "metadata": {
        "id": "3X-JvvR5Sw2a"
      },
      "execution_count": 16,
      "outputs": []
    },
    {
      "cell_type": "code",
      "source": [
        "test2_data = []\n",
        "test2_labels = []\n",
        "\n",
        "for _ in test_data:\n",
        "  test2_data.append(tf.expand_dims(_, -1))\n",
        "\n",
        "for _ in test_labels:\n",
        "  test2_labels.append(tf.expand_dims(_, 0))\n",
        "\n",
        "test2_data = tf.convert_to_tensor(test2_data)\n",
        "test2_labels = tf.convert_to_tensor(test2_labels)\n",
        "\n",
        "test2_dataset = tf.data.Dataset.from_tensor_slices((test2_data, test2_labels))"
      ],
      "metadata": {
        "id": "JJDw-gOmUzAo"
      },
      "execution_count": 17,
      "outputs": []
    },
    {
      "cell_type": "markdown",
      "source": [
        "The following function attempts to simplify these code blocks utilizing functions."
      ],
      "metadata": {
        "id": "RyHWoqNeSG7R"
      }
    },
    {
      "cell_type": "code",
      "source": [
        "def main_dataset_load(root_path, x, y, df_train, df_test):\n",
        "  load_and_resize(root_path, x, y)\n",
        "\n",
        "  new_df_train, new_df_test = match_img_to_density(df_train, df_test)\n",
        "\n",
        "  train_dataset = data_to_tensor_dataset(new_df_test)\n",
        "  test_dataset = data_to_tensor_dataset(new_df_train)\n",
        "  \n",
        "  return (train_dataset, test_dataset)"
      ],
      "metadata": {
        "id": "ZcfX0ucAjSDU"
      },
      "execution_count": null,
      "outputs": []
    },
    {
      "cell_type": "code",
      "source": [
        "train_dataset, test_dataset = main_dataset_load(root_path, 229, 229, df_train, df_test)"
      ],
      "metadata": {
        "id": "dL0pMYkHBF7B"
      },
      "execution_count": null,
      "outputs": []
    },
    {
      "cell_type": "markdown",
      "metadata": {
        "id": "BgvDiLbAR-mu"
      },
      "source": [
        "# numpyZ"
      ]
    },
    {
      "cell_type": "markdown",
      "metadata": {
        "id": "e1wq9d5_SDcg"
      },
      "source": [
        "***Problem Statement:*** Combine the numpy file with breast density information (binary) to create numpyZ files."
      ]
    },
    {
      "cell_type": "markdown",
      "source": [
        "The remaining code in the notebook does not utilize these specific usages of npz fies, so the npy and npz files within `create_npy_npz()` are not rooted in a directory, although the functionality could be implemented."
      ],
      "metadata": {
        "id": "BFJAPRKVra5K"
      }
    },
    {
      "cell_type": "code",
      "source": [
        "def create_npy_npz():\n",
        "  f_train_df = pd.DataFrame({'Data': train_data, 'Labels': train_labels})\n",
        "  f_test_df = pd.DataFrame({'Data': test_data, 'Labels': test_labels})\n",
        "\n",
        "  with open('train_df.npy', 'w') as fp_train:\n",
        "    pass\n",
        "  with open('test_df.npy', 'w') as fp_test:\n",
        "    pass\n",
        "\n",
        "  np.save(fp_train, f_train_df)\n",
        "  np.save(fp_test, f_test_df)\n",
        "\n",
        "\n",
        "  with open('train_df.npz', 'w') as fp_train_z:\n",
        "    pass\n",
        "  with open('test_df.npz', 'w') as fp_test_z:\n",
        "    pass\n",
        "\n",
        "  np.savez(fp_train_z, fp_train)\n",
        "  np.savez(fp_test_z, fp_test)"
      ],
      "metadata": {
        "id": "TT7D7v0mdSsX"
      },
      "execution_count": 18,
      "outputs": []
    },
    {
      "cell_type": "markdown",
      "metadata": {
        "id": "NT_paXIFSPe7"
      },
      "source": [
        "# Basic ResNet Architecture"
      ]
    },
    {
      "cell_type": "markdown",
      "metadata": {
        "id": "-pGJ82ZCSW7X"
      },
      "source": [
        "***Problem Statement:*** Create a basic ResNet architecture to train on breast denseness (we will make this a 2D classification program with 2 classes). There are four breast densities: ABCD, but for this project, set Density A and B as \"not dense\". Density C and D as \"dense\" to make this a 2-class classification program. Please note that getting high  accuracy is not the goal at this point, but just writing a neural network algorithm that runs without error is fine."
      ]
    },
    {
      "cell_type": "markdown",
      "source": [
        "**Resources:**\n",
        "https://towardsdatascience.com/understand-and-implement-resnet-50-with-tensorflow-2-0-1190b9b52691\n",
        "\n",
        "https://towardsdatascience.com/an-overview-of-resnet-and-its-variants-5281e2f56035\n",
        "\n",
        "https://www.analyticsvidhya.com/blog/2021/08/how-to-code-your-resnet-from-scratch-in-tensorflow/\n",
        "\n",
        "https://keras.io/examples/vision/image_classification_from_scratch/\n"
      ],
      "metadata": {
        "id": "3wuJxhp84PM_"
      }
    },
    {
      "cell_type": "code",
      "source": [
        "from tensorflow.keras.models import Sequential\n",
        "from tensorflow.keras.layers import Dense,Conv2D,Flatten,MaxPooling2D, Activation, BatchNormalization, GlobalAvgPool2D, MaxPool2D\n",
        "from tensorflow.keras.callbacks import EarlyStopping,ReduceLROnPlateau"
      ],
      "metadata": {
        "id": "h0aEsqBAjQx8"
      },
      "execution_count": 19,
      "outputs": []
    },
    {
      "cell_type": "code",
      "source": [
        "from tensorflow.keras.optimizers import Adam, SGD\n",
        "from tensorflow.keras.callbacks import ReduceLROnPlateau"
      ],
      "metadata": {
        "id": "a2xfST0H9JMe"
      },
      "execution_count": 20,
      "outputs": []
    },
    {
      "cell_type": "markdown",
      "source": [
        "## i. ResNet"
      ],
      "metadata": {
        "id": "q086xN5mktO1"
      }
    },
    {
      "cell_type": "markdown",
      "source": [
        "The following code is modified from code written by Géron Aurélien in the book ***Hands-on Machine learning with Scikit-Learn and Tensorflow: Concepts, Tools, and Techniques to Build Intelligent Systems*** (pg. 479, 2019)."
      ],
      "metadata": {
        "id": "ArcIfuCC8LHX"
      }
    },
    {
      "cell_type": "code",
      "source": [
        "from functools import partial\n",
        "DefaultConv2D = partial(Conv2D, kernel_size=3, strides=1,\n",
        "                        padding=\"SAME\", use_bias=False)\n",
        "\n",
        "class ResidualUnit(keras.layers.Layer):\n",
        "    def __init__(self, filters, strides=1, activation=\"relu\", **kwargs):\n",
        "        super().__init__(**kwargs)\n",
        "        self.activation = keras.activations.get(activation)\n",
        "        self.main_layers = [\n",
        "            DefaultConv2D(filters, strides=strides),\n",
        "            BatchNormalization(),\n",
        "            self.activation,\n",
        "            DefaultConv2D(filters),\n",
        "            BatchNormalization()]\n",
        "        self.skip_layers = []\n",
        "        if strides > 1:\n",
        "            self.skip_layers = [\n",
        "                DefaultConv2D(filters, kernel_size=1, strides=strides),\n",
        "                BatchNormalization()]\n",
        "\n",
        "    def call(self, inputs):\n",
        "        Z = inputs\n",
        "        for layer in self.main_layers:\n",
        "            Z = layer(Z)\n",
        "        skip_Z = inputs\n",
        "        for layer in self.skip_layers:\n",
        "            skip_Z = layer(skip_Z)\n",
        "        return self.activation(Z + skip_Z)"
      ],
      "metadata": {
        "id": "vq4kAX0ZciCc"
      },
      "execution_count": 122,
      "outputs": []
    },
    {
      "cell_type": "code",
      "source": [
        "rmodel = tf.keras.Sequential()\n",
        "rmodel.add(Conv2D(64,3, strides=2, input_shape=[229,229,1], padding=\"same\", use_bias=False))#64,7\n",
        "rmodel.add(BatchNormalization())\n",
        "rmodel.add(Activation(\"relu\"))\n",
        "rmodel.add(MaxPool2D(pool_size=3, strides=2, padding=\"same\"))\n",
        "\n",
        "prev_filters = 64\n",
        "\n",
        "#adding RU\n",
        "for filters in [64] * 3 + [128] * 4 + [256] * 6 + [512] * 3:\n",
        "    strides = 1 if filters == prev_filters else 2\n",
        "    rmodel.add(ResidualUnit(filters, strides=strides))\n",
        "    prev_filters = filters\n",
        "\n",
        "rmodel.add(GlobalAvgPool2D())\n",
        "rmodel.add(Flatten())\n",
        "rmodel.add(Dense(1, activation='sigmoid')) #changed softmax to sigmoid"
      ],
      "metadata": {
        "id": "kRce8MKAgEJx"
      },
      "execution_count": 123,
      "outputs": []
    },
    {
      "cell_type": "code",
      "source": [
        "rmodel.compile(optimizer=tf.keras.optimizers.Adam(), \n",
        "              loss='binary_crossentropy', \n",
        "              metrics=['accuracy'])"
      ],
      "metadata": {
        "id": "LjVPuyJtyYIZ"
      },
      "execution_count": 124,
      "outputs": []
    },
    {
      "cell_type": "code",
      "source": [
        "rmodel.fit(train2_data, train2_labels, epochs=15)"
      ],
      "metadata": {
        "id": "PymHmYCSOQgN",
        "colab": {
          "base_uri": "https://localhost:8080/"
        },
        "outputId": "6219d96d-e2a4-42aa-fc5c-027160592cf1"
      },
      "execution_count": 166,
      "outputs": [
        {
          "output_type": "stream",
          "name": "stdout",
          "text": [
            "Epoch 1/15\n",
            "3/3 [==============================] - 43s 12s/step - loss: 0.6932 - accuracy: 0.5890\n",
            "Epoch 2/15\n",
            "3/3 [==============================] - 43s 12s/step - loss: 0.6636 - accuracy: 0.6164\n",
            "Epoch 3/15\n",
            "3/3 [==============================] - 43s 12s/step - loss: 0.6526 - accuracy: 0.5890\n",
            "Epoch 4/15\n",
            "3/3 [==============================] - 43s 12s/step - loss: 0.6625 - accuracy: 0.6027\n",
            "Epoch 5/15\n",
            "3/3 [==============================] - 43s 12s/step - loss: 0.6165 - accuracy: 0.6849\n",
            "Epoch 6/15\n",
            "3/3 [==============================] - 43s 12s/step - loss: 0.6433 - accuracy: 0.6438\n",
            "Epoch 7/15\n",
            "3/3 [==============================] - 43s 12s/step - loss: 0.6390 - accuracy: 0.6438\n",
            "Epoch 8/15\n",
            "3/3 [==============================] - 43s 12s/step - loss: 0.6114 - accuracy: 0.6849\n",
            "Epoch 9/15\n",
            "3/3 [==============================] - 43s 12s/step - loss: 0.5875 - accuracy: 0.6849\n",
            "Epoch 10/15\n",
            "3/3 [==============================] - 43s 12s/step - loss: 0.5756 - accuracy: 0.7123\n",
            "Epoch 11/15\n",
            "3/3 [==============================] - 43s 12s/step - loss: 0.5654 - accuracy: 0.7123\n",
            "Epoch 12/15\n",
            "3/3 [==============================] - 43s 12s/step - loss: 0.5002 - accuracy: 0.8082\n",
            "Epoch 13/15\n",
            "3/3 [==============================] - 43s 12s/step - loss: 0.5234 - accuracy: 0.6986\n",
            "Epoch 14/15\n",
            "3/3 [==============================] - 43s 12s/step - loss: 0.5945 - accuracy: 0.6849\n",
            "Epoch 15/15\n",
            "3/3 [==============================] - 43s 12s/step - loss: 0.5494 - accuracy: 0.6575\n"
          ]
        },
        {
          "output_type": "execute_result",
          "data": {
            "text/plain": [
              "<keras.callbacks.History at 0x7f43a1221690>"
            ]
          },
          "metadata": {},
          "execution_count": 166
        }
      ]
    },
    {
      "cell_type": "markdown",
      "source": [
        "Perfect number of epochs seems to be 12."
      ],
      "metadata": {
        "id": "0R0W7PorMVqL"
      }
    },
    {
      "cell_type": "code",
      "source": [
        "rmodel.summary()"
      ],
      "metadata": {
        "colab": {
          "base_uri": "https://localhost:8080/"
        },
        "id": "Rnk2loKpIIVP",
        "outputId": "0de19329-3f7a-4391-8e13-7dd88b22b57a"
      },
      "execution_count": 167,
      "outputs": [
        {
          "output_type": "stream",
          "name": "stdout",
          "text": [
            "Model: \"sequential_2\"\n",
            "_________________________________________________________________\n",
            " Layer (type)                Output Shape              Param #   \n",
            "=================================================================\n",
            " conv2d_72 (Conv2D)          (None, 115, 115, 64)      576       \n",
            "                                                                 \n",
            " batch_normalization_72 (Bat  (None, 115, 115, 64)     256       \n",
            " chNormalization)                                                \n",
            "                                                                 \n",
            " activation_2 (Activation)   (None, 115, 115, 64)      0         \n",
            "                                                                 \n",
            " max_pooling2d_2 (MaxPooling  (None, 58, 58, 64)       0         \n",
            " 2D)                                                             \n",
            "                                                                 \n",
            " residual_unit_32 (ResidualU  (None, 58, 58, 64)       74240     \n",
            " nit)                                                            \n",
            "                                                                 \n",
            " residual_unit_33 (ResidualU  (None, 58, 58, 64)       74240     \n",
            " nit)                                                            \n",
            "                                                                 \n",
            " residual_unit_34 (ResidualU  (None, 58, 58, 64)       74240     \n",
            " nit)                                                            \n",
            "                                                                 \n",
            " residual_unit_35 (ResidualU  (None, 29, 29, 128)      230912    \n",
            " nit)                                                            \n",
            "                                                                 \n",
            " residual_unit_36 (ResidualU  (None, 29, 29, 128)      295936    \n",
            " nit)                                                            \n",
            "                                                                 \n",
            " residual_unit_37 (ResidualU  (None, 29, 29, 128)      295936    \n",
            " nit)                                                            \n",
            "                                                                 \n",
            " residual_unit_38 (ResidualU  (None, 29, 29, 128)      295936    \n",
            " nit)                                                            \n",
            "                                                                 \n",
            " residual_unit_39 (ResidualU  (None, 15, 15, 256)      920576    \n",
            " nit)                                                            \n",
            "                                                                 \n",
            " residual_unit_40 (ResidualU  (None, 15, 15, 256)      1181696   \n",
            " nit)                                                            \n",
            "                                                                 \n",
            " residual_unit_41 (ResidualU  (None, 15, 15, 256)      1181696   \n",
            " nit)                                                            \n",
            "                                                                 \n",
            " residual_unit_42 (ResidualU  (None, 15, 15, 256)      1181696   \n",
            " nit)                                                            \n",
            "                                                                 \n",
            " residual_unit_43 (ResidualU  (None, 15, 15, 256)      1181696   \n",
            " nit)                                                            \n",
            "                                                                 \n",
            " residual_unit_44 (ResidualU  (None, 15, 15, 256)      1181696   \n",
            " nit)                                                            \n",
            "                                                                 \n",
            " residual_unit_45 (ResidualU  (None, 8, 8, 512)        3676160   \n",
            " nit)                                                            \n",
            "                                                                 \n",
            " residual_unit_46 (ResidualU  (None, 8, 8, 512)        4722688   \n",
            " nit)                                                            \n",
            "                                                                 \n",
            " residual_unit_47 (ResidualU  (None, 8, 8, 512)        4722688   \n",
            " nit)                                                            \n",
            "                                                                 \n",
            " global_average_pooling2d_2   (None, 512)              0         \n",
            " (GlobalAveragePooling2D)                                        \n",
            "                                                                 \n",
            " flatten_2 (Flatten)         (None, 512)               0         \n",
            "                                                                 \n",
            " dense_2 (Dense)             (None, 1)                 513       \n",
            "                                                                 \n",
            "=================================================================\n",
            "Total params: 21,293,377\n",
            "Trainable params: 21,276,353\n",
            "Non-trainable params: 17,024\n",
            "_________________________________________________________________\n"
          ]
        }
      ]
    },
    {
      "cell_type": "markdown",
      "source": [
        "## ii. Plain Dense Network"
      ],
      "metadata": {
        "id": "F_qXkRQulAfs"
      }
    },
    {
      "cell_type": "code",
      "source": [
        "#binary classification\n",
        "batch_size=16\n",
        "steps_per_epoch = 250/batch_size\n",
        "\n",
        "lr_schedule = tf.keras.optimizers.schedules.InverseTimeDecay( \n",
        "    0.001, \n",
        "    decay_steps=steps_per_epoch*1000, \n",
        "    decay_rate=1,\n",
        "    staircase=False)\n",
        "\n",
        "\n",
        "step = np.linspace(0,100000)\n",
        "lr = lr_schedule(step) \n",
        "plt.figure(figsize = (8,6)) \n",
        "plt.plot(step/steps_per_epoch, lr) \n",
        "plt.ylim([0,max(plt.ylim())]) \n",
        "plt.xlabel('Epoch')\n",
        "_ = plt.ylabel('Learning Rate')\n",
        "\n",
        "bmodel = tf.keras.Sequential([ \n",
        "                             tf.keras.layers.Flatten(input_shape=(229, 229)),\n",
        "                             tf.keras.layers.Dense(128, activation='relu'), \n",
        "                             tf.keras.layers.Dense(64, activation='tanh'), \n",
        "                             tf.keras.layers.Dense(32, activation='sigmoid'), \n",
        "                             tf.keras.layers.Dense(1)\n",
        "])\n",
        "\n",
        "\n",
        "bmodel.compile(optimizer=tf.keras.optimizers.Adam(lr_schedule), \n",
        "              loss='binary_crossentropy', \n",
        "              metrics=['accuracy'])\n",
        "\n",
        "callback = tf.keras.callbacks.EarlyStopping(monitor='loss', patience=10)\n",
        "\n",
        "\n",
        "bmodel.fit(x=train_data, y=train_labels, epochs=1000, batch_size=16, callbacks=[callback])\n"
      ],
      "metadata": {
        "colab": {
          "base_uri": "https://localhost:8080/",
          "height": 2007
        },
        "id": "JPXxTgySGbl6",
        "outputId": "df4dad0d-0e05-4a74-ea73-d48ed9653ebd"
      },
      "execution_count": null,
      "outputs": [
        {
          "output_type": "stream",
          "name": "stdout",
          "text": [
            "Epoch 1/1000\n",
            "5/5 [==============================] - 1s 35ms/step - loss: 3.9701 - accuracy: 0.5205\n",
            "Epoch 2/1000\n",
            "5/5 [==============================] - 0s 35ms/step - loss: 1.3308 - accuracy: 0.6712\n",
            "Epoch 3/1000\n",
            "5/5 [==============================] - 0s 36ms/step - loss: 0.4820 - accuracy: 0.7397\n",
            "Epoch 4/1000\n",
            "5/5 [==============================] - 0s 37ms/step - loss: 0.5299 - accuracy: 0.6712\n",
            "Epoch 5/1000\n",
            "5/5 [==============================] - 0s 38ms/step - loss: 0.3930 - accuracy: 0.7808\n",
            "Epoch 6/1000\n",
            "5/5 [==============================] - 0s 36ms/step - loss: 0.3972 - accuracy: 0.7945\n",
            "Epoch 7/1000\n",
            "5/5 [==============================] - 0s 35ms/step - loss: 0.3816 - accuracy: 0.7945\n",
            "Epoch 8/1000\n",
            "5/5 [==============================] - 0s 39ms/step - loss: 0.3702 - accuracy: 0.8082\n",
            "Epoch 9/1000\n",
            "5/5 [==============================] - 0s 38ms/step - loss: 0.3793 - accuracy: 0.8082\n",
            "Epoch 10/1000\n",
            "5/5 [==============================] - 0s 36ms/step - loss: 0.3885 - accuracy: 0.7945\n",
            "Epoch 11/1000\n",
            "5/5 [==============================] - 0s 35ms/step - loss: 0.3801 - accuracy: 0.8082\n",
            "Epoch 12/1000\n",
            "5/5 [==============================] - 0s 34ms/step - loss: 0.4019 - accuracy: 0.8082\n",
            "Epoch 13/1000\n",
            "5/5 [==============================] - 0s 36ms/step - loss: 0.3713 - accuracy: 0.8082\n",
            "Epoch 14/1000\n",
            "5/5 [==============================] - 0s 35ms/step - loss: 0.3694 - accuracy: 0.7945\n",
            "Epoch 15/1000\n",
            "5/5 [==============================] - 0s 37ms/step - loss: 0.3624 - accuracy: 0.7945\n",
            "Epoch 16/1000\n",
            "5/5 [==============================] - 0s 36ms/step - loss: 0.3535 - accuracy: 0.7808\n",
            "Epoch 17/1000\n",
            "5/5 [==============================] - 0s 36ms/step - loss: 0.3549 - accuracy: 0.7808\n",
            "Epoch 18/1000\n",
            "5/5 [==============================] - 0s 37ms/step - loss: 0.3440 - accuracy: 0.7808\n",
            "Epoch 19/1000\n",
            "5/5 [==============================] - 0s 36ms/step - loss: 0.3458 - accuracy: 0.7808\n",
            "Epoch 20/1000\n",
            "5/5 [==============================] - 0s 36ms/step - loss: 0.3472 - accuracy: 0.8082\n",
            "Epoch 21/1000\n",
            "5/5 [==============================] - 0s 36ms/step - loss: 0.3428 - accuracy: 0.8082\n",
            "Epoch 22/1000\n",
            "5/5 [==============================] - 0s 36ms/step - loss: 0.3399 - accuracy: 0.8082\n",
            "Epoch 23/1000\n",
            "5/5 [==============================] - 0s 35ms/step - loss: 0.3408 - accuracy: 0.8082\n",
            "Epoch 24/1000\n",
            "5/5 [==============================] - 0s 40ms/step - loss: 0.3415 - accuracy: 0.8082\n",
            "Epoch 25/1000\n",
            "5/5 [==============================] - 0s 37ms/step - loss: 0.3393 - accuracy: 0.8082\n",
            "Epoch 26/1000\n",
            "5/5 [==============================] - 0s 36ms/step - loss: 0.3391 - accuracy: 0.8082\n",
            "Epoch 27/1000\n",
            "5/5 [==============================] - 0s 36ms/step - loss: 0.3399 - accuracy: 0.8082\n",
            "Epoch 28/1000\n",
            "5/5 [==============================] - 0s 36ms/step - loss: 0.3391 - accuracy: 0.8082\n",
            "Epoch 29/1000\n",
            "5/5 [==============================] - 0s 36ms/step - loss: 0.3388 - accuracy: 0.8082\n",
            "Epoch 30/1000\n",
            "5/5 [==============================] - 0s 39ms/step - loss: 0.3385 - accuracy: 0.8082\n",
            "Epoch 31/1000\n",
            "5/5 [==============================] - 0s 37ms/step - loss: 0.3383 - accuracy: 0.8082\n",
            "Epoch 32/1000\n",
            "5/5 [==============================] - 0s 37ms/step - loss: 0.3383 - accuracy: 0.8082\n",
            "Epoch 33/1000\n",
            "5/5 [==============================] - 0s 35ms/step - loss: 0.3379 - accuracy: 0.8082\n",
            "Epoch 34/1000\n",
            "5/5 [==============================] - 0s 35ms/step - loss: 0.3373 - accuracy: 0.8082\n",
            "Epoch 35/1000\n",
            "5/5 [==============================] - 0s 38ms/step - loss: 0.3385 - accuracy: 0.8082\n",
            "Epoch 36/1000\n",
            "5/5 [==============================] - 0s 36ms/step - loss: 0.3374 - accuracy: 0.8082\n",
            "Epoch 37/1000\n",
            "5/5 [==============================] - 0s 34ms/step - loss: 0.3408 - accuracy: 0.8082\n",
            "Epoch 38/1000\n",
            "5/5 [==============================] - 0s 36ms/step - loss: 0.3387 - accuracy: 0.8082\n",
            "Epoch 39/1000\n",
            "5/5 [==============================] - 0s 36ms/step - loss: 0.3347 - accuracy: 0.7945\n",
            "Epoch 40/1000\n",
            "5/5 [==============================] - 0s 36ms/step - loss: 0.3620 - accuracy: 0.7123\n",
            "Epoch 41/1000\n",
            "5/5 [==============================] - 0s 36ms/step - loss: 0.3431 - accuracy: 0.8219\n",
            "Epoch 42/1000\n",
            "5/5 [==============================] - 0s 39ms/step - loss: 0.3516 - accuracy: 0.7808\n",
            "Epoch 43/1000\n",
            "5/5 [==============================] - 0s 37ms/step - loss: 0.3438 - accuracy: 0.8082\n",
            "Epoch 44/1000\n",
            "5/5 [==============================] - 0s 35ms/step - loss: 0.3505 - accuracy: 0.7808\n",
            "Epoch 45/1000\n",
            "5/5 [==============================] - 0s 35ms/step - loss: 0.3450 - accuracy: 0.7808\n",
            "Epoch 46/1000\n",
            "5/5 [==============================] - 0s 38ms/step - loss: 0.3435 - accuracy: 0.7808\n",
            "Epoch 47/1000\n",
            "5/5 [==============================] - 0s 35ms/step - loss: 0.3498 - accuracy: 0.7808\n",
            "Epoch 48/1000\n",
            "5/5 [==============================] - 0s 36ms/step - loss: 0.3427 - accuracy: 0.8082\n",
            "Epoch 49/1000\n",
            "5/5 [==============================] - 0s 37ms/step - loss: 0.3481 - accuracy: 0.7945\n"
          ]
        },
        {
          "output_type": "execute_result",
          "data": {
            "text/plain": [
              "<keras.callbacks.History at 0x7f60575eb590>"
            ]
          },
          "metadata": {},
          "execution_count": 179
        },
        {
          "output_type": "display_data",
          "data": {
            "image/png": "[encoded data removed]",
            "text/plain": [
              "<Figure size 576x432 with 1 Axes>"
            ]
          },
          "metadata": {
            "needs_background": "light"
          }
        }
      ]
    },
    {
      "cell_type": "markdown",
      "metadata": {
        "id": "UczqttN9SZpU"
      },
      "source": [
        "# Algorithm Prediction"
      ]
    },
    {
      "cell_type": "markdown",
      "metadata": {
        "id": "ebRJPwXhSeAT"
      },
      "source": [
        "***Problem Statement:*** Perform prediction with the algorithm on the testing set and provide your predictions on the test set (it need not be good at this point)."
      ]
    },
    {
      "cell_type": "code",
      "source": [
        "# Function for making model predictions binary.\n",
        "# `preds`: numpy.ndarray of model predictions\n",
        "\n",
        "def clean_preds(preds):\n",
        "  for _ in range(len(preds)):\n",
        "    if preds[_] < 0.5:\n",
        "      preds[_] = 0\n",
        "    else:\n",
        "      preds[_] = 1"
      ],
      "metadata": {
        "id": "B3Z6ojpYZ7gc"
      },
      "execution_count": 86,
      "outputs": []
    },
    {
      "cell_type": "markdown",
      "source": [
        "## i) ResNet Predictions"
      ],
      "metadata": {
        "id": "sJX-ViATsswr"
      }
    },
    {
      "cell_type": "code",
      "source": [
        "rpreds = rmodel.predict(test2_data)"
      ],
      "metadata": {
        "id": "iQLEsEAltypH"
      },
      "execution_count": 168,
      "outputs": []
    },
    {
      "cell_type": "code",
      "source": [
        "clean_preds(rpreds)"
      ],
      "metadata": {
        "id": "hC6AiKZKt_IZ"
      },
      "execution_count": 169,
      "outputs": []
    },
    {
      "cell_type": "markdown",
      "source": [
        "## ii) Plain Dense Network (bmodel) Predictions"
      ],
      "metadata": {
        "id": "_rrV6hUStmdY"
      }
    },
    {
      "cell_type": "code",
      "source": [
        "#Prediction based on the bmodel\n",
        "bpreds = bmodel.predict(test_data)"
      ],
      "metadata": {
        "id": "0xBgw-_pHJdx"
      },
      "execution_count": null,
      "outputs": []
    },
    {
      "cell_type": "code",
      "source": [
        "bpreds"
      ],
      "metadata": {
        "colab": {
          "base_uri": "https://localhost:8080/"
        },
        "id": "_CuA6lmNHMXo",
        "outputId": "d6b5ef42-58b7-44c5-dbd1-ffce4ce4aa6c"
      },
      "execution_count": null,
      "outputs": [
        {
          "output_type": "execute_result",
          "data": {
            "text/plain": [
              "array([[ 0.37848145],\n",
              "       [-0.10918489],\n",
              "       [ 0.39612377],\n",
              "       [ 0.73552257],\n",
              "       [ 0.4809768 ],\n",
              "       [ 0.39612377],\n",
              "       [ 0.4882709 ],\n",
              "       [ 0.39612377],\n",
              "       [-0.04600895],\n",
              "       [ 0.48298123],\n",
              "       [ 0.39612377],\n",
              "       [ 0.37464425],\n",
              "       [ 0.38317293],\n",
              "       [ 0.41721788],\n",
              "       [ 0.00283003],\n",
              "       [ 1.6225054 ],\n",
              "       [ 0.39612377],\n",
              "       [ 0.47806886],\n",
              "       [ 0.39612377],\n",
              "       [ 1.043559  ],\n",
              "       [ 0.39612377],\n",
              "       [-0.2224859 ],\n",
              "       [ 0.27550447],\n",
              "       [ 0.3677779 ],\n",
              "       [ 0.39612377],\n",
              "       [ 0.38684654],\n",
              "       [ 0.39612377],\n",
              "       [ 0.6344951 ],\n",
              "       [ 0.48097005],\n",
              "       [ 0.39612377],\n",
              "       [ 0.63636976],\n",
              "       [ 0.39612392],\n",
              "       [ 0.8815041 ],\n",
              "       [ 0.37046602],\n",
              "       [ 0.39612377],\n",
              "       [ 1.1999772 ],\n",
              "       [ 0.39612377],\n",
              "       [-0.306533  ],\n",
              "       [ 0.39612377],\n",
              "       [ 1.1690291 ],\n",
              "       [ 0.39612377],\n",
              "       [ 0.2864031 ],\n",
              "       [ 0.55502135],\n",
              "       [ 0.40137854],\n",
              "       [ 0.39612377],\n",
              "       [ 0.6836081 ],\n",
              "       [-0.11322862],\n",
              "       [ 0.39612377],\n",
              "       [ 1.3519974 ],\n",
              "       [ 0.4809735 ],\n",
              "       [ 0.39612377],\n",
              "       [ 0.6601229 ],\n",
              "       [ 0.36785358],\n",
              "       [ 0.36788192],\n",
              "       [ 0.39607957],\n",
              "       [ 0.4809622 ],\n",
              "       [-0.04635579],\n",
              "       [-0.1134643 ],\n",
              "       [ 0.39612377],\n",
              "       [ 0.3497111 ],\n",
              "       [ 0.39612377],\n",
              "       [-0.19954804],\n",
              "       [ 0.00245778],\n",
              "       [ 0.39612392],\n",
              "       [ 1.1114001 ],\n",
              "       [ 0.39612377],\n",
              "       [-0.030794  ],\n",
              "       [ 1.1645801 ],\n",
              "       [ 0.39612377],\n",
              "       [ 0.9013342 ],\n",
              "       [-0.11613062],\n",
              "       [ 0.39569518],\n",
              "       [ 0.39612377],\n",
              "       [ 0.08525184],\n",
              "       [ 0.28814253],\n",
              "       [ 0.3802384 ],\n",
              "       [ 0.39612377],\n",
              "       [ 0.723841  ],\n",
              "       [ 0.39612377],\n",
              "       [-0.17310557],\n",
              "       [ 0.39612377],\n",
              "       [ 0.35701433],\n",
              "       [ 0.39612392],\n",
              "       [ 0.18162343]], dtype=float32)"
            ]
          },
          "metadata": {},
          "execution_count": 181
        }
      ]
    },
    {
      "cell_type": "code",
      "source": [
        "clean_preds(bpreds)"
      ],
      "metadata": {
        "id": "WhHD99xraI7X"
      },
      "execution_count": null,
      "outputs": []
    },
    {
      "cell_type": "markdown",
      "source": [
        "## iii) Keras Accuracy Metrics"
      ],
      "metadata": {
        "id": "hL2PPxDTt5oZ"
      }
    },
    {
      "cell_type": "markdown",
      "source": [
        "Keras Accuracy Metrics for the Plain Dense Network Model."
      ],
      "metadata": {
        "id": "_3BgRFsN95Z-"
      }
    },
    {
      "cell_type": "code",
      "source": [
        "acc = tf.keras.metrics.Accuracy(name=\"accuracy\")"
      ],
      "metadata": {
        "id": "JR2v2zjTXakR"
      },
      "execution_count": null,
      "outputs": []
    },
    {
      "cell_type": "code",
      "source": [
        "acc.update_state(test_labels, bpreds)"
      ],
      "metadata": {
        "colab": {
          "base_uri": "https://localhost:8080/"
        },
        "id": "msjCrnDDXpB1",
        "outputId": "3706d326-781b-43e0-ed4e-4eba658450f8"
      },
      "execution_count": null,
      "outputs": [
        {
          "output_type": "execute_result",
          "data": {
            "text/plain": [
              "<tf.Variable 'UnreadVariable' shape=() dtype=float32, numpy=84.0>"
            ]
          },
          "metadata": {},
          "execution_count": 185
        }
      ]
    },
    {
      "cell_type": "code",
      "source": [
        "acc.finalize_state"
      ],
      "metadata": {
        "colab": {
          "base_uri": "https://localhost:8080/"
        },
        "id": "y_avffHDH3Jh",
        "outputId": "d04ddc27-3075-4e5a-f18b-c0b5dd3e8610"
      },
      "execution_count": null,
      "outputs": [
        {
          "output_type": "execute_result",
          "data": {
            "text/plain": [
              "<bound method Layer.finalize_state of <keras.metrics.Accuracy object at 0x7f604a4aee10>>"
            ]
          },
          "metadata": {},
          "execution_count": 61
        }
      ]
    },
    {
      "cell_type": "code",
      "source": [
        "acc.result().numpy()"
      ],
      "metadata": {
        "colab": {
          "base_uri": "https://localhost:8080/"
        },
        "id": "l-Huz7-3IG82",
        "outputId": "8b45173f-c9f7-4ec9-9902-049f8ae2ee4d"
      },
      "execution_count": null,
      "outputs": [
        {
          "output_type": "execute_result",
          "data": {
            "text/plain": [
              "0.54761904"
            ]
          },
          "metadata": {},
          "execution_count": 186
        }
      ]
    },
    {
      "cell_type": "markdown",
      "source": [
        "Keras Accuracy Metrics for the ResNet."
      ],
      "metadata": {
        "id": "_woq9Woc99wI"
      }
    },
    {
      "cell_type": "code",
      "source": [
        "acc2 = tf.keras.metrics.Accuracy(name=\"accuracy2\")"
      ],
      "metadata": {
        "id": "Q-wHkDM0-AjW"
      },
      "execution_count": 170,
      "outputs": []
    },
    {
      "cell_type": "code",
      "source": [
        "acc2.update_state(test_labels, rpreds)"
      ],
      "metadata": {
        "colab": {
          "base_uri": "https://localhost:8080/"
        },
        "id": "XVfsHJXC-Cd0",
        "outputId": "6f68afc4-fa89-4565-e360-ddabc1bcb91d"
      },
      "execution_count": 171,
      "outputs": [
        {
          "output_type": "execute_result",
          "data": {
            "text/plain": [
              "<tf.Variable 'UnreadVariable' shape=() dtype=float32, numpy=84.0>"
            ]
          },
          "metadata": {},
          "execution_count": 171
        }
      ]
    },
    {
      "cell_type": "code",
      "source": [
        "acc2.finalize_state"
      ],
      "metadata": {
        "colab": {
          "base_uri": "https://localhost:8080/"
        },
        "id": "h9SubbZn-ElN",
        "outputId": "ea7c9bd0-0db0-46ca-9cfd-7e2a0facfed1"
      },
      "execution_count": 172,
      "outputs": [
        {
          "output_type": "execute_result",
          "data": {
            "text/plain": [
              "<bound method Layer.finalize_state of <keras.metrics.Accuracy object at 0x7f43a1d5f710>>"
            ]
          },
          "metadata": {},
          "execution_count": 172
        }
      ]
    },
    {
      "cell_type": "code",
      "source": [
        "acc2.result().numpy()"
      ],
      "metadata": {
        "colab": {
          "base_uri": "https://localhost:8080/"
        },
        "id": "h7b4Im9c-Gpe",
        "outputId": "a181d9f8-4637-4106-87c6-48f59516ab87"
      },
      "execution_count": 173,
      "outputs": [
        {
          "output_type": "execute_result",
          "data": {
            "text/plain": [
              "0.48809522"
            ]
          },
          "metadata": {},
          "execution_count": 173
        }
      ]
    },
    {
      "cell_type": "markdown",
      "metadata": {
        "id": "GkRNDy9QSkU-"
      },
      "source": [
        "# 10 Random Mammogram Images"
      ]
    },
    {
      "cell_type": "markdown",
      "metadata": {
        "id": "vY0K31aqSqJI"
      },
      "source": [
        "***Problem Statement:*** Display 10 random mammogram images."
      ]
    },
    {
      "cell_type": "code",
      "metadata": {
        "colab": {
          "base_uri": "https://localhost:8080/",
          "height": 489
        },
        "id": "2NSr-7lFxSCE",
        "outputId": "faf2a3e6-65d4-4519-939a-b1c8339a4db8"
      },
      "source": [
        "fig = plt.figure(figsize = (20,10))\n",
        "r, c = 2, 5\n",
        "\n",
        "data = [train_data, test_data]\n",
        "labels = [train_labels, test_labels]\n",
        "\n",
        "for i in range(10):\n",
        "  select = np.random.randint(0,1)\n",
        "\n",
        "  random_set = data[select]\n",
        "  index = np.random.randint(1, len(random_set))\n",
        "  random_image = random_set[index]\n",
        "  label = labels[select][index]\n",
        "  fig.add_subplot(r,c,i+1)\n",
        "\n",
        "  plt.imshow(random_image, cmap='gray')\n",
        "  plt.title(\"Breast density: \" + str(label))\n",
        "  #plt.show() # To view in column view"
      ],
      "execution_count": 189,
      "outputs": [
        {
          "output_type": "display_data",
          "data": {
            "image/png": "[encoded data removed]",
            "text/plain": [
              "<Figure size 1440x720 with 10 Axes>"
            ]
          },
          "metadata": {
            "needs_background": "light"
          }
        }
      ]
    },
    {
      "cell_type": "markdown",
      "metadata": {
        "id": "2HfyQOihSs9Z"
      },
      "source": [
        "# Confusion Matrix & ROC Curve"
      ]
    },
    {
      "cell_type": "markdown",
      "metadata": {
        "id": "1h6ipTHwS-9G"
      },
      "source": [
        "***Problem Statement:*** Provide confusion matrix and ROC curve."
      ]
    },
    {
      "cell_type": "code",
      "source": [
        "#data to work with\n",
        "target_class = test_labels\n",
        "predicted_class = rpreds"
      ],
      "metadata": {
        "id": "eXeK7BaDPlWA"
      },
      "execution_count": 174,
      "outputs": []
    },
    {
      "cell_type": "markdown",
      "metadata": {
        "id": "-tEKcq1agAUr"
      },
      "source": [
        "\n",
        "i) Confusion Matrix\n",
        "---\n",
        "\n"
      ]
    },
    {
      "cell_type": "markdown",
      "source": [
        "**Resources:**\n"
      ],
      "metadata": {
        "id": "pqxaZWym57X2"
      }
    },
    {
      "cell_type": "code",
      "metadata": {
        "id": "rA_VeSaSgEzZ"
      },
      "source": [
        "from sklearn.metrics import confusion_matrix"
      ],
      "execution_count": 175,
      "outputs": []
    },
    {
      "cell_type": "code",
      "source": [
        "def conf_matrix(target_class, predicted_class):\n",
        "  conf = confusion_matrix(target_class, predicted_class)\n",
        "  plt.matshow(conf, cmap='binary')"
      ],
      "metadata": {
        "id": "bJMb7bH2PBPz"
      },
      "execution_count": 176,
      "outputs": []
    },
    {
      "cell_type": "code",
      "source": [
        "conf_matrix(target_class, predicted_class)"
      ],
      "metadata": {
        "colab": {
          "base_uri": "https://localhost:8080/",
          "height": 275
        },
        "id": "BQuw-eoePMZW",
        "outputId": "ec011d4f-1613-493b-81a2-d129c97f5ad9"
      },
      "execution_count": 177,
      "outputs": [
        {
          "output_type": "display_data",
          "data": {
            "image/png": "[encoded data removed]",
            "text/plain": [
              "<Figure size 288x288 with 1 Axes>"
            ]
          },
          "metadata": {
            "needs_background": "light"
          }
        }
      ]
    },
    {
      "cell_type": "markdown",
      "metadata": {
        "id": "JGiswUiuf8Zq"
      },
      "source": [
        "\n",
        "ii) ROC Curve\n",
        "---\n",
        "\n"
      ]
    },
    {
      "cell_type": "code",
      "metadata": {
        "id": "1-UIyFmeSzcH"
      },
      "source": [
        "from sklearn.metrics import roc_curve, auc"
      ],
      "execution_count": 178,
      "outputs": []
    },
    {
      "cell_type": "code",
      "source": [
        "def rocAnalyze(y_true, y_score):\n",
        "  fpr, tpr, thresholds = roc_curve(y_true, y_score)\n",
        "\n",
        "  print(\"False Positive Rate: \", fpr)\n",
        "  print(\"True Positive Rate: \", tpr)\n",
        "  print(\"Thresholds: \", thresholds)\n",
        "\n",
        "  plt.plot(fpr, tpr)\n",
        "  plt.title(\"ROC Curve\")\n",
        "  plt.xlabel(\"False Positive Rate\")\n",
        "  plt.ylabel(\"True Positive Rate\")\n",
        "\n",
        "  auc_ROC = auc(fpr, tpr)\n",
        "  print(\"Area under curve: \", auc_ROC)\n",
        "  return auc_ROC"
      ],
      "metadata": {
        "id": "byA00qvTMzQ5"
      },
      "execution_count": 179,
      "outputs": []
    },
    {
      "cell_type": "code",
      "source": [
        "auc_ROC = rocAnalyze(target_class, predicted_class)"
      ],
      "metadata": {
        "colab": {
          "base_uri": "https://localhost:8080/",
          "height": 364
        },
        "id": "WlZjbQM1NEwI",
        "outputId": "dd5e25b2-3615-45fc-b4af-791b8d6ef5d2"
      },
      "execution_count": 180,
      "outputs": [
        {
          "output_type": "stream",
          "name": "stdout",
          "text": [
            "False Positive Rate:  [0.         0.64285714 1.        ]\n",
            "True Positive Rate:  [0.         0.61904762 1.        ]\n",
            "Thresholds:  [2. 1. 0.]\n",
            "Area under curve:  0.48809523809523814\n"
          ]
        },
        {
          "output_type": "display_data",
          "data": {
            "image/png": "[encoded data removed]",
            "text/plain": [
              "<Figure size 432x288 with 1 Axes>"
            ]
          },
          "metadata": {
            "needs_background": "light"
          }
        }
      ]
    },
    {
      "cell_type": "markdown",
      "metadata": {
        "id": "mNp1zi_6S0dM"
      },
      "source": [
        "# DeLong Test & Confidence Interval"
      ]
    },
    {
      "cell_type": "markdown",
      "metadata": {
        "id": "WCfc8KsvS51T"
      },
      "source": [
        "***Problem Statement:*** Perform DeLong test and confidence interval around the ROC curve using bootstrapping."
      ]
    },
    {
      "cell_type": "code",
      "source": [
        "#data to work with\n",
        "target_class = test_labels\n",
        "predicted_class = rpreds"
      ],
      "metadata": {
        "id": "2dzES2UbZyDJ"
      },
      "execution_count": 144,
      "outputs": []
    },
    {
      "cell_type": "markdown",
      "source": [
        "## i) DeLong Test"
      ],
      "metadata": {
        "id": "BssTb6C9Ol1s"
      }
    },
    {
      "cell_type": "markdown",
      "source": [
        "DeLong Test\n",
        "Resources:\n",
        "\n",
        "https://stackoverflow.com/questions/19124239/scikit-learn-roc-curve-with-confidence-intervals\n",
        "\n",
        "https://github.com/yandexdataschool/roc_comparison/blob/master/compare_auc_delong_xu.py"
      ],
      "metadata": {
        "id": "_g29Q7SRODWd"
      }
    },
    {
      "cell_type": "code",
      "source": [
        "from scipy.stats import sem\n",
        "from sklearn.metrics import roc_auc_score\n",
        "import scipy.stats as st\n",
        "from sklearn import metrics"
      ],
      "metadata": {
        "id": "1g1XeADrQJmA"
      },
      "execution_count": 181,
      "outputs": []
    },
    {
      "cell_type": "code",
      "metadata": {
        "id": "EWJquof8S5KH"
      },
      "source": [
        "#Modified from: https://stackoverflow.com/questions/19124239/scikit-learn-roc-curve-with-confidence-intervals\n",
        "\n",
        "#bootstrapped_scores = []\n",
        "\n",
        "def bootStrap(target_class, predicted_class, auc_ROC):\n",
        "  print(\"Original ROC area: \" + str(auc_ROC))\n",
        "\n",
        "  n_bootstraps = 1000\n",
        "  rng_seed = 42  # control reproducibility, 42\n",
        "  bootstrapped_scores = []\n",
        "\n",
        "  rng = np.random.RandomState(rng_seed)\n",
        "  for i in range(n_bootstraps):\n",
        "    # bootstrap by sampling with replacement on the prediction indices\n",
        "    indices = rng.randint(0, len(predicted_class), len(predicted_class))\n",
        "    if len(np.unique(target_class[indices])) < 2:\n",
        "        # We need at least one positive and one negative sample for ROC AUC\n",
        "        # to be defined: reject the sample\n",
        "        continue\n",
        "    score = roc_auc_score(target_class[indices], predicted_class[indices])\n",
        "    bootstrapped_scores.append(score)\n",
        "    #print(\"Bootstrap #\" + str(i+1) + \" ROC area: \" + str('%.3f'%(score)))\n",
        "\n",
        "  #print(\"Average Bootstrapped ROC area: \" + str(sum(bootstrapped_scores)/len(bootstrapped_scores)))\n",
        "\n",
        "  plt.hist(bootstrapped_scores, bins=50)\n",
        "  plt.title('Histogram of the bootstrapped ROC AUC scores')\n",
        "  plt.show()"
      ],
      "execution_count": 182,
      "outputs": []
    },
    {
      "cell_type": "code",
      "source": [
        "bootStrap(target_class, predicted_class, auc_ROC)"
      ],
      "metadata": {
        "colab": {
          "base_uri": "https://localhost:8080/",
          "height": 298
        },
        "id": "12qQqEL2OHrE",
        "outputId": "9ccc97bd-30c2-4743-b5f5-b33213ea6682"
      },
      "execution_count": 183,
      "outputs": [
        {
          "output_type": "stream",
          "name": "stdout",
          "text": [
            "Original ROC area: 0.48809523809523814\n"
          ]
        },
        {
          "output_type": "display_data",
          "data": {
            "image/png": "[encoded data removed]",
            "text/plain": [
              "<Figure size 432x288 with 1 Axes>"
            ]
          },
          "metadata": {
            "needs_background": "light"
          }
        }
      ]
    },
    {
      "cell_type": "markdown",
      "source": [
        "DeLong Test Code Source: https://biasedml.com/roc-comparison/"
      ],
      "metadata": {
        "id": "WLGcb1_oPiLd"
      }
    },
    {
      "cell_type": "code",
      "source": [
        "# credit: https://biasedml.com/roc-comparison/\n",
        "def auc(X, Y):\n",
        "    return 1/(len(X)*len(Y)) * sum([kernel(x, y) for x in X for y in Y])\n",
        "def kernel(X, Y):\n",
        "    return .5 if Y==X else int(Y < X)\n",
        "def structural_components(X, Y):\n",
        "    V10 = [1/len(Y) * sum([kernel(x, y) for y in Y]) for x in X]\n",
        "    V01 = [1/len(X) * sum([kernel(x, y) for x in X]) for y in Y]\n",
        "    return V10, V01\n",
        "    \n",
        "def get_S_entry(V_A, V_B, auc_A, auc_B):\n",
        "    return 1/(len(V_A)-1) * sum([(a-auc_A)*(b-auc_B) for a,b in zip(V_A, V_B)])\n",
        "def z_score(var_A, var_B, covar_AB, auc_A, auc_B):\n",
        "    return (auc_A - auc_B)/((var_A + var_B - 2*covar_AB)**(.5))"
      ],
      "metadata": {
        "id": "yfmY-sU9PIu0"
      },
      "execution_count": 184,
      "outputs": []
    },
    {
      "cell_type": "code",
      "source": [
        "random_preds = []\n",
        "for _ in range(len(test_labels)):\n",
        "  random_preds.append(np.random.randint(0,1))\n",
        "\n",
        "random_preds = np.asarray(random_preds)"
      ],
      "metadata": {
        "id": "W862U8cNQWwH"
      },
      "execution_count": 185,
      "outputs": []
    },
    {
      "cell_type": "code",
      "source": [
        "#credit: https://biasedml.com/roc-comparison/\n",
        "def group_preds_by_label(preds, target_class):\n",
        "    X = [p for (p, a) in zip(preds, target_class) if a]\n",
        "    Y = [p for (p, a) in zip(preds, target_class) if not a]\n",
        "    return X, Y\n",
        "\n",
        "X_A, Y_A = group_preds_by_label(random_preds, target_class)\n",
        "X_B, Y_B = group_preds_by_label(predicted_class, target_class)\n",
        "\n",
        "V_A10, V_A01 = structural_components(X_A, Y_A)\n",
        "V_B10, V_B01 = structural_components(X_B, Y_B)\n",
        "\n",
        "auc_A = auc(X_A, Y_A)\n",
        "auc_B = auc(X_B, Y_B)\n",
        "\n",
        "# Compute entries of covariance matrix S (covar_AB = covar_BA)\n",
        "var_A = (get_S_entry(V_A10, V_A10, auc_A, auc_A) * 1/len(V_A10)\n",
        "         + get_S_entry(V_A01, V_A01, auc_A, auc_A) * 1/len(V_A01))\n",
        "\n",
        "var_B = (get_S_entry(V_B10, V_B10, auc_B, auc_B) * 1/len(V_B10)\n",
        "         + get_S_entry(V_B01, V_B01, auc_B, auc_B) * 1/len(V_B01))\n",
        "\n",
        "covar_AB = (get_S_entry(V_A10, V_B10, auc_A, auc_B) * 1/len(V_A10)\n",
        "            + get_S_entry(V_A01, V_B01, auc_A, auc_B) * 1/len(V_A01))\n",
        "\n",
        "# Two tailed test\n",
        "z = z_score(var_A, var_B, covar_AB, auc_A, auc_B)\n",
        "p = st.norm.sf(abs(z))*2\n",
        "\n",
        "print(\"z-score: \" + str(z))\n",
        "print(\"p-value: \" + str(p))"
      ],
      "metadata": {
        "colab": {
          "base_uri": "https://localhost:8080/"
        },
        "id": "6yt-AGGmPQ4U",
        "outputId": "fc0efd73-1287-479d-f073-12e2b2db059b"
      },
      "execution_count": 186,
      "outputs": [
        {
          "output_type": "stream",
          "name": "stdout",
          "text": [
            "z-score: 0.22347057672134518\n",
            "p-value: 0.8231692804954005\n"
          ]
        }
      ]
    },
    {
      "cell_type": "markdown",
      "source": [
        "## ii) Confidence Interval"
      ],
      "metadata": {
        "id": "Q2jXNjl8Oqk6"
      }
    },
    {
      "cell_type": "markdown",
      "source": [
        "***Resources:***\n",
        "\n",
        "https://stackoverflow.com/questions/19124239/scikit-learn-roc-curve-with-confidence-intervals"
      ],
      "metadata": {
        "id": "HwvfKiqqOS3k"
      }
    },
    {
      "cell_type": "code",
      "source": [
        "def conf_interval():\n",
        "  sorted_scores = np.array(bootstrapped_scores)\n",
        "  sorted_scores.sort()\n",
        "\n",
        "  #for 90% interval: low = 0.025, high = 0.975\n",
        "  conf_low = '%.3f'%(sorted_scores[int(0.05 * len(sorted_scores))])\n",
        "  conf_high = '%.3f'%(sorted_scores[int(0.95 * len(sorted_scores))])\n",
        "  print(\"90% confidence interval: [\" + str(conf_low) + \" - \" + str(conf_high) + \"]\")"
      ],
      "metadata": {
        "id": "rX8_nM1ON7nM"
      },
      "execution_count": 187,
      "outputs": []
    },
    {
      "cell_type": "code",
      "source": [
        "conf_interval()"
      ],
      "metadata": {
        "colab": {
          "base_uri": "https://localhost:8080/"
        },
        "id": "g0ox8iQPOYBQ",
        "outputId": "f8ec38f1-8728-4f89-b028-c33c803b320e"
      },
      "execution_count": 188,
      "outputs": [
        {
          "output_type": "stream",
          "name": "stdout",
          "text": [
            "90% confidence interval: [0.500 - 0.500]\n"
          ]
        }
      ]
    }
  ]
}